{
 "cells": [
  {
   "cell_type": "code",
   "execution_count": 1,
   "metadata": {},
   "outputs": [
    {
     "name": "stdout",
     "output_type": "stream",
     "text": [
      "D:\\\n"
     ]
    }
   ],
   "source": [
    "%cd D:\\"
   ]
  },
  {
   "cell_type": "code",
   "execution_count": 2,
   "metadata": {},
   "outputs": [],
   "source": [
    "import pandas as pd"
   ]
  },
  {
   "cell_type": "code",
   "execution_count": 3,
   "metadata": {},
   "outputs": [],
   "source": [
    "matches=pd.read_csv('matches.csv',sep=\",\")"
   ]
  },
  {
   "cell_type": "code",
   "execution_count": 4,
   "metadata": {},
   "outputs": [
    {
     "data": {
      "text/html": [
       "<div>\n",
       "<style scoped>\n",
       "    .dataframe tbody tr th:only-of-type {\n",
       "        vertical-align: middle;\n",
       "    }\n",
       "\n",
       "    .dataframe tbody tr th {\n",
       "        vertical-align: top;\n",
       "    }\n",
       "\n",
       "    .dataframe thead th {\n",
       "        text-align: right;\n",
       "    }\n",
       "</style>\n",
       "<table border=\"1\" class=\"dataframe\">\n",
       "  <thead>\n",
       "    <tr style=\"text-align: right;\">\n",
       "      <th></th>\n",
       "      <th>id</th>\n",
       "      <th>season</th>\n",
       "      <th>city</th>\n",
       "      <th>date</th>\n",
       "      <th>team1</th>\n",
       "      <th>Pplay T1</th>\n",
       "      <th>pplay twick1</th>\n",
       "      <th>team2</th>\n",
       "      <th>pplay twick2</th>\n",
       "      <th>Pplay T2</th>\n",
       "      <th>...</th>\n",
       "      <th>win_by_runs</th>\n",
       "      <th>win_by_wickets</th>\n",
       "      <th>player_of_match</th>\n",
       "      <th>venue</th>\n",
       "      <th>Avg 1st Innings Score</th>\n",
       "      <th>Avg 2nd Innings Score</th>\n",
       "      <th>umpire1</th>\n",
       "      <th>umpire2</th>\n",
       "      <th>umpire3</th>\n",
       "      <th>Pitch Type</th>\n",
       "    </tr>\n",
       "  </thead>\n",
       "  <tbody>\n",
       "    <tr>\n",
       "      <th>0</th>\n",
       "      <td>1</td>\n",
       "      <td>2017</td>\n",
       "      <td>Hyderabad</td>\n",
       "      <td>05-04-2017</td>\n",
       "      <td>Sunrisers Hyderabad</td>\n",
       "      <td>59</td>\n",
       "      <td>1</td>\n",
       "      <td>Royal Challengers Bangalore</td>\n",
       "      <td>1</td>\n",
       "      <td>54</td>\n",
       "      <td>...</td>\n",
       "      <td>35</td>\n",
       "      <td>0</td>\n",
       "      <td>Yuvraj Singh</td>\n",
       "      <td>Rajiv Gandhi International Stadium, Uppal</td>\n",
       "      <td>185</td>\n",
       "      <td>175</td>\n",
       "      <td>AY Dandekar</td>\n",
       "      <td>NJ Llong</td>\n",
       "      <td>NaN</td>\n",
       "      <td>Batting</td>\n",
       "    </tr>\n",
       "    <tr>\n",
       "      <th>1</th>\n",
       "      <td>2</td>\n",
       "      <td>2017</td>\n",
       "      <td>Pune</td>\n",
       "      <td>06-04-2017</td>\n",
       "      <td>Mumbai Indians</td>\n",
       "      <td>61</td>\n",
       "      <td>1</td>\n",
       "      <td>Rising Pune Supergiant</td>\n",
       "      <td>1</td>\n",
       "      <td>59</td>\n",
       "      <td>...</td>\n",
       "      <td>0</td>\n",
       "      <td>7</td>\n",
       "      <td>SPD Smith</td>\n",
       "      <td>Maharashtra Cricket Association Stadium</td>\n",
       "      <td>160</td>\n",
       "      <td>148</td>\n",
       "      <td>A Nand Kishore</td>\n",
       "      <td>S Ravi</td>\n",
       "      <td>NaN</td>\n",
       "      <td>Batting &amp; Spinner Friendly</td>\n",
       "    </tr>\n",
       "    <tr>\n",
       "      <th>2</th>\n",
       "      <td>3</td>\n",
       "      <td>2017</td>\n",
       "      <td>Rajkot</td>\n",
       "      <td>07-04-2017</td>\n",
       "      <td>Gujarat Lions</td>\n",
       "      <td>52</td>\n",
       "      <td>1</td>\n",
       "      <td>Kolkata Knight Riders</td>\n",
       "      <td>0</td>\n",
       "      <td>73</td>\n",
       "      <td>...</td>\n",
       "      <td>0</td>\n",
       "      <td>10</td>\n",
       "      <td>CA Lynn</td>\n",
       "      <td>Saurashtra Cricket Association Stadium</td>\n",
       "      <td>183</td>\n",
       "      <td>170</td>\n",
       "      <td>Nitin Menon</td>\n",
       "      <td>CK Nandan</td>\n",
       "      <td>NaN</td>\n",
       "      <td>Batting</td>\n",
       "    </tr>\n",
       "    <tr>\n",
       "      <th>3</th>\n",
       "      <td>4</td>\n",
       "      <td>2017</td>\n",
       "      <td>Indore</td>\n",
       "      <td>08-04-2017</td>\n",
       "      <td>Rising Pune Supergiant</td>\n",
       "      <td>35</td>\n",
       "      <td>1</td>\n",
       "      <td>Kings XI Punjab</td>\n",
       "      <td>2</td>\n",
       "      <td>56</td>\n",
       "      <td>...</td>\n",
       "      <td>0</td>\n",
       "      <td>6</td>\n",
       "      <td>GJ Maxwell</td>\n",
       "      <td>Holkar Cricket Stadium</td>\n",
       "      <td>160</td>\n",
       "      <td>158</td>\n",
       "      <td>AK Chaudhary</td>\n",
       "      <td>C Shamshuddin</td>\n",
       "      <td>NaN</td>\n",
       "      <td>Batting</td>\n",
       "    </tr>\n",
       "    <tr>\n",
       "      <th>4</th>\n",
       "      <td>5</td>\n",
       "      <td>2017</td>\n",
       "      <td>Bangalore</td>\n",
       "      <td>08-04-2017</td>\n",
       "      <td>Royal Challengers Bangalore</td>\n",
       "      <td>41</td>\n",
       "      <td>2</td>\n",
       "      <td>Delhi Daredevils</td>\n",
       "      <td>2</td>\n",
       "      <td>43</td>\n",
       "      <td>...</td>\n",
       "      <td>15</td>\n",
       "      <td>0</td>\n",
       "      <td>KM Jadhav</td>\n",
       "      <td>M Chinnaswamy Stadium</td>\n",
       "      <td>170</td>\n",
       "      <td>150</td>\n",
       "      <td>NaN</td>\n",
       "      <td>NaN</td>\n",
       "      <td>NaN</td>\n",
       "      <td>Batting</td>\n",
       "    </tr>\n",
       "  </tbody>\n",
       "</table>\n",
       "<p>5 rows × 25 columns</p>\n",
       "</div>"
      ],
      "text/plain": [
       "   id  season       city        date                        team1  Pplay T1  \\\n",
       "0   1    2017  Hyderabad  05-04-2017          Sunrisers Hyderabad        59   \n",
       "1   2    2017       Pune  06-04-2017               Mumbai Indians        61   \n",
       "2   3    2017     Rajkot  07-04-2017                Gujarat Lions        52   \n",
       "3   4    2017     Indore  08-04-2017       Rising Pune Supergiant        35   \n",
       "4   5    2017  Bangalore  08-04-2017  Royal Challengers Bangalore        41   \n",
       "\n",
       "   pplay twick1                        team2  pplay twick2  Pplay T2  ...  \\\n",
       "0             1  Royal Challengers Bangalore             1        54  ...   \n",
       "1             1       Rising Pune Supergiant             1        59  ...   \n",
       "2             1        Kolkata Knight Riders             0        73  ...   \n",
       "3             1              Kings XI Punjab             2        56  ...   \n",
       "4             2             Delhi Daredevils             2        43  ...   \n",
       "\n",
       "  win_by_runs win_by_wickets player_of_match  \\\n",
       "0          35              0    Yuvraj Singh   \n",
       "1           0              7       SPD Smith   \n",
       "2           0             10         CA Lynn   \n",
       "3           0              6      GJ Maxwell   \n",
       "4          15              0       KM Jadhav   \n",
       "\n",
       "                                       venue Avg 1st Innings Score  \\\n",
       "0  Rajiv Gandhi International Stadium, Uppal                   185   \n",
       "1    Maharashtra Cricket Association Stadium                   160   \n",
       "2     Saurashtra Cricket Association Stadium                   183   \n",
       "3                     Holkar Cricket Stadium                   160   \n",
       "4                      M Chinnaswamy Stadium                   170   \n",
       "\n",
       "   Avg 2nd Innings Score         umpire1        umpire2 umpire3  \\\n",
       "0                    175     AY Dandekar       NJ Llong     NaN   \n",
       "1                    148  A Nand Kishore         S Ravi     NaN   \n",
       "2                    170     Nitin Menon      CK Nandan     NaN   \n",
       "3                    158    AK Chaudhary  C Shamshuddin     NaN   \n",
       "4                    150             NaN            NaN     NaN   \n",
       "\n",
       "                   Pitch Type  \n",
       "0                     Batting  \n",
       "1  Batting & Spinner Friendly  \n",
       "2                     Batting  \n",
       "3                     Batting  \n",
       "4                     Batting  \n",
       "\n",
       "[5 rows x 25 columns]"
      ]
     },
     "execution_count": 4,
     "metadata": {},
     "output_type": "execute_result"
    }
   ],
   "source": [
    "matches.head()"
   ]
  },
  {
   "cell_type": "code",
   "execution_count": 5,
   "metadata": {},
   "outputs": [],
   "source": [
    "matches=matches.drop(['id','date','umpire1','umpire2','umpire3','player_of_match',],axis=1)"
   ]
  },
  {
   "cell_type": "code",
   "execution_count": 6,
   "metadata": {},
   "outputs": [
    {
     "data": {
      "text/html": [
       "<div>\n",
       "<style scoped>\n",
       "    .dataframe tbody tr th:only-of-type {\n",
       "        vertical-align: middle;\n",
       "    }\n",
       "\n",
       "    .dataframe tbody tr th {\n",
       "        vertical-align: top;\n",
       "    }\n",
       "\n",
       "    .dataframe thead th {\n",
       "        text-align: right;\n",
       "    }\n",
       "</style>\n",
       "<table border=\"1\" class=\"dataframe\">\n",
       "  <thead>\n",
       "    <tr style=\"text-align: right;\">\n",
       "      <th></th>\n",
       "      <th>season</th>\n",
       "      <th>city</th>\n",
       "      <th>team1</th>\n",
       "      <th>Pplay T1</th>\n",
       "      <th>pplay twick1</th>\n",
       "      <th>team2</th>\n",
       "      <th>pplay twick2</th>\n",
       "      <th>Pplay T2</th>\n",
       "      <th>toss_winner</th>\n",
       "      <th>toss_decision</th>\n",
       "      <th>result</th>\n",
       "      <th>dl_applied</th>\n",
       "      <th>winner</th>\n",
       "      <th>win_by_runs</th>\n",
       "      <th>win_by_wickets</th>\n",
       "      <th>venue</th>\n",
       "      <th>Avg 1st Innings Score</th>\n",
       "      <th>Avg 2nd Innings Score</th>\n",
       "      <th>Pitch Type</th>\n",
       "    </tr>\n",
       "  </thead>\n",
       "  <tbody>\n",
       "    <tr>\n",
       "      <th>0</th>\n",
       "      <td>2017</td>\n",
       "      <td>Hyderabad</td>\n",
       "      <td>Sunrisers Hyderabad</td>\n",
       "      <td>59</td>\n",
       "      <td>1</td>\n",
       "      <td>Royal Challengers Bangalore</td>\n",
       "      <td>1</td>\n",
       "      <td>54</td>\n",
       "      <td>Royal Challengers Bangalore</td>\n",
       "      <td>field</td>\n",
       "      <td>normal</td>\n",
       "      <td>0</td>\n",
       "      <td>Sunrisers Hyderabad</td>\n",
       "      <td>35</td>\n",
       "      <td>0</td>\n",
       "      <td>Rajiv Gandhi International Stadium, Uppal</td>\n",
       "      <td>185</td>\n",
       "      <td>175</td>\n",
       "      <td>Batting</td>\n",
       "    </tr>\n",
       "    <tr>\n",
       "      <th>1</th>\n",
       "      <td>2017</td>\n",
       "      <td>Pune</td>\n",
       "      <td>Mumbai Indians</td>\n",
       "      <td>61</td>\n",
       "      <td>1</td>\n",
       "      <td>Rising Pune Supergiant</td>\n",
       "      <td>1</td>\n",
       "      <td>59</td>\n",
       "      <td>Rising Pune Supergiant</td>\n",
       "      <td>field</td>\n",
       "      <td>normal</td>\n",
       "      <td>0</td>\n",
       "      <td>Rising Pune Supergiant</td>\n",
       "      <td>0</td>\n",
       "      <td>7</td>\n",
       "      <td>Maharashtra Cricket Association Stadium</td>\n",
       "      <td>160</td>\n",
       "      <td>148</td>\n",
       "      <td>Batting &amp; Spinner Friendly</td>\n",
       "    </tr>\n",
       "    <tr>\n",
       "      <th>2</th>\n",
       "      <td>2017</td>\n",
       "      <td>Rajkot</td>\n",
       "      <td>Gujarat Lions</td>\n",
       "      <td>52</td>\n",
       "      <td>1</td>\n",
       "      <td>Kolkata Knight Riders</td>\n",
       "      <td>0</td>\n",
       "      <td>73</td>\n",
       "      <td>Kolkata Knight Riders</td>\n",
       "      <td>field</td>\n",
       "      <td>normal</td>\n",
       "      <td>0</td>\n",
       "      <td>Kolkata Knight Riders</td>\n",
       "      <td>0</td>\n",
       "      <td>10</td>\n",
       "      <td>Saurashtra Cricket Association Stadium</td>\n",
       "      <td>183</td>\n",
       "      <td>170</td>\n",
       "      <td>Batting</td>\n",
       "    </tr>\n",
       "    <tr>\n",
       "      <th>3</th>\n",
       "      <td>2017</td>\n",
       "      <td>Indore</td>\n",
       "      <td>Rising Pune Supergiant</td>\n",
       "      <td>35</td>\n",
       "      <td>1</td>\n",
       "      <td>Kings XI Punjab</td>\n",
       "      <td>2</td>\n",
       "      <td>56</td>\n",
       "      <td>Kings XI Punjab</td>\n",
       "      <td>field</td>\n",
       "      <td>normal</td>\n",
       "      <td>0</td>\n",
       "      <td>Kings XI Punjab</td>\n",
       "      <td>0</td>\n",
       "      <td>6</td>\n",
       "      <td>Holkar Cricket Stadium</td>\n",
       "      <td>160</td>\n",
       "      <td>158</td>\n",
       "      <td>Batting</td>\n",
       "    </tr>\n",
       "    <tr>\n",
       "      <th>4</th>\n",
       "      <td>2017</td>\n",
       "      <td>Bangalore</td>\n",
       "      <td>Royal Challengers Bangalore</td>\n",
       "      <td>41</td>\n",
       "      <td>2</td>\n",
       "      <td>Delhi Daredevils</td>\n",
       "      <td>2</td>\n",
       "      <td>43</td>\n",
       "      <td>Royal Challengers Bangalore</td>\n",
       "      <td>bat</td>\n",
       "      <td>normal</td>\n",
       "      <td>0</td>\n",
       "      <td>Royal Challengers Bangalore</td>\n",
       "      <td>15</td>\n",
       "      <td>0</td>\n",
       "      <td>M Chinnaswamy Stadium</td>\n",
       "      <td>170</td>\n",
       "      <td>150</td>\n",
       "      <td>Batting</td>\n",
       "    </tr>\n",
       "  </tbody>\n",
       "</table>\n",
       "</div>"
      ],
      "text/plain": [
       "   season       city                        team1  Pplay T1  pplay twick1  \\\n",
       "0    2017  Hyderabad          Sunrisers Hyderabad        59             1   \n",
       "1    2017       Pune               Mumbai Indians        61             1   \n",
       "2    2017     Rajkot                Gujarat Lions        52             1   \n",
       "3    2017     Indore       Rising Pune Supergiant        35             1   \n",
       "4    2017  Bangalore  Royal Challengers Bangalore        41             2   \n",
       "\n",
       "                         team2  pplay twick2  Pplay T2  \\\n",
       "0  Royal Challengers Bangalore             1        54   \n",
       "1       Rising Pune Supergiant             1        59   \n",
       "2        Kolkata Knight Riders             0        73   \n",
       "3              Kings XI Punjab             2        56   \n",
       "4             Delhi Daredevils             2        43   \n",
       "\n",
       "                   toss_winner toss_decision  result  dl_applied  \\\n",
       "0  Royal Challengers Bangalore         field  normal           0   \n",
       "1       Rising Pune Supergiant         field  normal           0   \n",
       "2        Kolkata Knight Riders         field  normal           0   \n",
       "3              Kings XI Punjab         field  normal           0   \n",
       "4  Royal Challengers Bangalore           bat  normal           0   \n",
       "\n",
       "                        winner  win_by_runs  win_by_wickets  \\\n",
       "0          Sunrisers Hyderabad           35               0   \n",
       "1       Rising Pune Supergiant            0               7   \n",
       "2        Kolkata Knight Riders            0              10   \n",
       "3              Kings XI Punjab            0               6   \n",
       "4  Royal Challengers Bangalore           15               0   \n",
       "\n",
       "                                       venue  Avg 1st Innings Score  \\\n",
       "0  Rajiv Gandhi International Stadium, Uppal                    185   \n",
       "1    Maharashtra Cricket Association Stadium                    160   \n",
       "2     Saurashtra Cricket Association Stadium                    183   \n",
       "3                     Holkar Cricket Stadium                    160   \n",
       "4                      M Chinnaswamy Stadium                    170   \n",
       "\n",
       "   Avg 2nd Innings Score                  Pitch Type  \n",
       "0                    175                     Batting  \n",
       "1                    148  Batting & Spinner Friendly  \n",
       "2                    170                     Batting  \n",
       "3                    158                     Batting  \n",
       "4                    150                     Batting  "
      ]
     },
     "execution_count": 6,
     "metadata": {},
     "output_type": "execute_result"
    }
   ],
   "source": [
    "matches.head()"
   ]
  },
  {
   "cell_type": "code",
   "execution_count": 7,
   "metadata": {},
   "outputs": [
    {
     "name": "stdout",
     "output_type": "stream",
     "text": [
      "<class 'pandas.core.frame.DataFrame'>\n",
      "RangeIndex: 756 entries, 0 to 755\n",
      "Data columns (total 19 columns):\n",
      "season                   756 non-null int64\n",
      "city                     749 non-null object\n",
      "team1                    756 non-null object\n",
      "Pplay T1                 756 non-null int64\n",
      "pplay twick1             756 non-null int64\n",
      "team2                    756 non-null object\n",
      "pplay twick2             756 non-null int64\n",
      "Pplay T2                 756 non-null int64\n",
      "toss_winner              756 non-null object\n",
      "toss_decision            756 non-null object\n",
      "result                   756 non-null object\n",
      "dl_applied               756 non-null int64\n",
      "winner                   752 non-null object\n",
      "win_by_runs              756 non-null int64\n",
      "win_by_wickets           756 non-null int64\n",
      "venue                    756 non-null object\n",
      "Avg 1st Innings Score    756 non-null int64\n",
      "Avg 2nd Innings Score    756 non-null int64\n",
      "Pitch Type               756 non-null object\n",
      "dtypes: int64(10), object(9)\n",
      "memory usage: 112.3+ KB\n"
     ]
    }
   ],
   "source": [
    "matches.info()"
   ]
  },
  {
   "cell_type": "code",
   "execution_count": 8,
   "metadata": {},
   "outputs": [],
   "source": [
    "matches['winner'].fillna('Draw', inplace=True)"
   ]
  },
  {
   "cell_type": "code",
   "execution_count": 9,
   "metadata": {},
   "outputs": [],
   "source": [
    "matches.replace(['Mumbai Indians','Kolkata Knight Riders','Royal Challengers Bangalore','Deccan Chargers','Chennai Super Kings',\n",
    "                 'Rajasthan Royals','Delhi Daredevils','Gujarat Lions','Kings XI Punjab',\n",
    "                 'Sunrisers Hyderabad','Rising Pune Supergiants','Rising Pune Supergiant','Kochi Tuskers Kerala','Pune Warriors','Delhi Capitals']\n",
    "                ,['MI','KKR','RCB','DC','CSK','RR','DD','GL','KXIP','SRH','RPS','RPS','KTK','PW','DCC'],inplace=True)"
   ]
  },
  {
   "cell_type": "code",
   "execution_count": 10,
   "metadata": {},
   "outputs": [],
   "source": [
    "encode={'winner': {'MI':1,'KKR':2,'RCB':3,'DC':4,'CSK':5,'RR':6,'DD':7,'GL':8,'KXIP':9,'SRH':10,'RPS':11,'KTK':12,'PW':13,'DCC':14,'Draw':15}}"
   ]
  },
  {
   "cell_type": "code",
   "execution_count": 11,
   "metadata": {},
   "outputs": [],
   "source": [
    "matches.replace(encode, inplace=True)"
   ]
  },
  {
   "cell_type": "code",
   "execution_count": 12,
   "metadata": {},
   "outputs": [
    {
     "data": {
      "text/html": [
       "<div>\n",
       "<style scoped>\n",
       "    .dataframe tbody tr th:only-of-type {\n",
       "        vertical-align: middle;\n",
       "    }\n",
       "\n",
       "    .dataframe tbody tr th {\n",
       "        vertical-align: top;\n",
       "    }\n",
       "\n",
       "    .dataframe thead th {\n",
       "        text-align: right;\n",
       "    }\n",
       "</style>\n",
       "<table border=\"1\" class=\"dataframe\">\n",
       "  <thead>\n",
       "    <tr style=\"text-align: right;\">\n",
       "      <th></th>\n",
       "      <th>season</th>\n",
       "      <th>city</th>\n",
       "      <th>team1</th>\n",
       "      <th>Pplay T1</th>\n",
       "      <th>pplay twick1</th>\n",
       "      <th>team2</th>\n",
       "      <th>pplay twick2</th>\n",
       "      <th>Pplay T2</th>\n",
       "      <th>toss_winner</th>\n",
       "      <th>toss_decision</th>\n",
       "      <th>result</th>\n",
       "      <th>dl_applied</th>\n",
       "      <th>winner</th>\n",
       "      <th>win_by_runs</th>\n",
       "      <th>win_by_wickets</th>\n",
       "      <th>venue</th>\n",
       "      <th>Avg 1st Innings Score</th>\n",
       "      <th>Avg 2nd Innings Score</th>\n",
       "      <th>Pitch Type</th>\n",
       "    </tr>\n",
       "  </thead>\n",
       "  <tbody>\n",
       "    <tr>\n",
       "      <th>0</th>\n",
       "      <td>2017</td>\n",
       "      <td>Hyderabad</td>\n",
       "      <td>SRH</td>\n",
       "      <td>59</td>\n",
       "      <td>1</td>\n",
       "      <td>RCB</td>\n",
       "      <td>1</td>\n",
       "      <td>54</td>\n",
       "      <td>RCB</td>\n",
       "      <td>field</td>\n",
       "      <td>normal</td>\n",
       "      <td>0</td>\n",
       "      <td>10</td>\n",
       "      <td>35</td>\n",
       "      <td>0</td>\n",
       "      <td>Rajiv Gandhi International Stadium, Uppal</td>\n",
       "      <td>185</td>\n",
       "      <td>175</td>\n",
       "      <td>Batting</td>\n",
       "    </tr>\n",
       "    <tr>\n",
       "      <th>1</th>\n",
       "      <td>2017</td>\n",
       "      <td>Pune</td>\n",
       "      <td>MI</td>\n",
       "      <td>61</td>\n",
       "      <td>1</td>\n",
       "      <td>RPS</td>\n",
       "      <td>1</td>\n",
       "      <td>59</td>\n",
       "      <td>RPS</td>\n",
       "      <td>field</td>\n",
       "      <td>normal</td>\n",
       "      <td>0</td>\n",
       "      <td>11</td>\n",
       "      <td>0</td>\n",
       "      <td>7</td>\n",
       "      <td>Maharashtra Cricket Association Stadium</td>\n",
       "      <td>160</td>\n",
       "      <td>148</td>\n",
       "      <td>Batting &amp; Spinner Friendly</td>\n",
       "    </tr>\n",
       "    <tr>\n",
       "      <th>2</th>\n",
       "      <td>2017</td>\n",
       "      <td>Rajkot</td>\n",
       "      <td>GL</td>\n",
       "      <td>52</td>\n",
       "      <td>1</td>\n",
       "      <td>KKR</td>\n",
       "      <td>0</td>\n",
       "      <td>73</td>\n",
       "      <td>KKR</td>\n",
       "      <td>field</td>\n",
       "      <td>normal</td>\n",
       "      <td>0</td>\n",
       "      <td>2</td>\n",
       "      <td>0</td>\n",
       "      <td>10</td>\n",
       "      <td>Saurashtra Cricket Association Stadium</td>\n",
       "      <td>183</td>\n",
       "      <td>170</td>\n",
       "      <td>Batting</td>\n",
       "    </tr>\n",
       "    <tr>\n",
       "      <th>3</th>\n",
       "      <td>2017</td>\n",
       "      <td>Indore</td>\n",
       "      <td>RPS</td>\n",
       "      <td>35</td>\n",
       "      <td>1</td>\n",
       "      <td>KXIP</td>\n",
       "      <td>2</td>\n",
       "      <td>56</td>\n",
       "      <td>KXIP</td>\n",
       "      <td>field</td>\n",
       "      <td>normal</td>\n",
       "      <td>0</td>\n",
       "      <td>9</td>\n",
       "      <td>0</td>\n",
       "      <td>6</td>\n",
       "      <td>Holkar Cricket Stadium</td>\n",
       "      <td>160</td>\n",
       "      <td>158</td>\n",
       "      <td>Batting</td>\n",
       "    </tr>\n",
       "    <tr>\n",
       "      <th>4</th>\n",
       "      <td>2017</td>\n",
       "      <td>Bangalore</td>\n",
       "      <td>RCB</td>\n",
       "      <td>41</td>\n",
       "      <td>2</td>\n",
       "      <td>DD</td>\n",
       "      <td>2</td>\n",
       "      <td>43</td>\n",
       "      <td>RCB</td>\n",
       "      <td>bat</td>\n",
       "      <td>normal</td>\n",
       "      <td>0</td>\n",
       "      <td>3</td>\n",
       "      <td>15</td>\n",
       "      <td>0</td>\n",
       "      <td>M Chinnaswamy Stadium</td>\n",
       "      <td>170</td>\n",
       "      <td>150</td>\n",
       "      <td>Batting</td>\n",
       "    </tr>\n",
       "  </tbody>\n",
       "</table>\n",
       "</div>"
      ],
      "text/plain": [
       "   season       city team1  Pplay T1  pplay twick1 team2  pplay twick2  \\\n",
       "0    2017  Hyderabad   SRH        59             1   RCB             1   \n",
       "1    2017       Pune    MI        61             1   RPS             1   \n",
       "2    2017     Rajkot    GL        52             1   KKR             0   \n",
       "3    2017     Indore   RPS        35             1  KXIP             2   \n",
       "4    2017  Bangalore   RCB        41             2    DD             2   \n",
       "\n",
       "   Pplay T2 toss_winner toss_decision  result  dl_applied  winner  \\\n",
       "0        54         RCB         field  normal           0      10   \n",
       "1        59         RPS         field  normal           0      11   \n",
       "2        73         KKR         field  normal           0       2   \n",
       "3        56        KXIP         field  normal           0       9   \n",
       "4        43         RCB           bat  normal           0       3   \n",
       "\n",
       "   win_by_runs  win_by_wickets                                      venue  \\\n",
       "0           35               0  Rajiv Gandhi International Stadium, Uppal   \n",
       "1            0               7    Maharashtra Cricket Association Stadium   \n",
       "2            0              10     Saurashtra Cricket Association Stadium   \n",
       "3            0               6                     Holkar Cricket Stadium   \n",
       "4           15               0                      M Chinnaswamy Stadium   \n",
       "\n",
       "   Avg 1st Innings Score  Avg 2nd Innings Score                  Pitch Type  \n",
       "0                    185                    175                     Batting  \n",
       "1                    160                    148  Batting & Spinner Friendly  \n",
       "2                    183                    170                     Batting  \n",
       "3                    160                    158                     Batting  \n",
       "4                    170                    150                     Batting  "
      ]
     },
     "execution_count": 12,
     "metadata": {},
     "output_type": "execute_result"
    }
   ],
   "source": [
    "matches.head()"
   ]
  },
  {
   "cell_type": "code",
   "execution_count": 13,
   "metadata": {},
   "outputs": [],
   "source": [
    "matches[pd.isnull(matches['city'])]\n",
    "matches['city'].fillna('Dubai',inplace=True)"
   ]
  },
  {
   "cell_type": "code",
   "execution_count": 14,
   "metadata": {},
   "outputs": [
    {
     "data": {
      "text/html": [
       "<div>\n",
       "<style scoped>\n",
       "    .dataframe tbody tr th:only-of-type {\n",
       "        vertical-align: middle;\n",
       "    }\n",
       "\n",
       "    .dataframe tbody tr th {\n",
       "        vertical-align: top;\n",
       "    }\n",
       "\n",
       "    .dataframe thead th {\n",
       "        text-align: right;\n",
       "    }\n",
       "</style>\n",
       "<table border=\"1\" class=\"dataframe\">\n",
       "  <thead>\n",
       "    <tr style=\"text-align: right;\">\n",
       "      <th></th>\n",
       "      <th>season</th>\n",
       "      <th>Pplay T1</th>\n",
       "      <th>pplay twick1</th>\n",
       "      <th>pplay twick2</th>\n",
       "      <th>Pplay T2</th>\n",
       "      <th>dl_applied</th>\n",
       "      <th>winner</th>\n",
       "      <th>win_by_runs</th>\n",
       "      <th>win_by_wickets</th>\n",
       "      <th>Avg 1st Innings Score</th>\n",
       "      <th>Avg 2nd Innings Score</th>\n",
       "    </tr>\n",
       "  </thead>\n",
       "  <tbody>\n",
       "    <tr>\n",
       "      <th>count</th>\n",
       "      <td>756.000000</td>\n",
       "      <td>756.000000</td>\n",
       "      <td>756.000000</td>\n",
       "      <td>756.000000</td>\n",
       "      <td>756.000000</td>\n",
       "      <td>756.000000</td>\n",
       "      <td>756.000000</td>\n",
       "      <td>756.000000</td>\n",
       "      <td>756.000000</td>\n",
       "      <td>756.000000</td>\n",
       "      <td>756.000000</td>\n",
       "    </tr>\n",
       "    <tr>\n",
       "      <th>mean</th>\n",
       "      <td>2013.444444</td>\n",
       "      <td>45.178571</td>\n",
       "      <td>1.375661</td>\n",
       "      <td>1.474868</td>\n",
       "      <td>46.933862</td>\n",
       "      <td>0.025132</td>\n",
       "      <td>5.416667</td>\n",
       "      <td>13.283069</td>\n",
       "      <td>3.350529</td>\n",
       "      <td>165.683862</td>\n",
       "      <td>143.246032</td>\n",
       "    </tr>\n",
       "    <tr>\n",
       "      <th>std</th>\n",
       "      <td>3.366895</td>\n",
       "      <td>11.524974</td>\n",
       "      <td>1.069327</td>\n",
       "      <td>1.141930</td>\n",
       "      <td>12.775530</td>\n",
       "      <td>0.156630</td>\n",
       "      <td>3.421736</td>\n",
       "      <td>23.471144</td>\n",
       "      <td>3.387963</td>\n",
       "      <td>16.232069</td>\n",
       "      <td>40.908365</td>\n",
       "    </tr>\n",
       "    <tr>\n",
       "      <th>min</th>\n",
       "      <td>2008.000000</td>\n",
       "      <td>15.000000</td>\n",
       "      <td>0.000000</td>\n",
       "      <td>0.000000</td>\n",
       "      <td>2.000000</td>\n",
       "      <td>0.000000</td>\n",
       "      <td>1.000000</td>\n",
       "      <td>0.000000</td>\n",
       "      <td>0.000000</td>\n",
       "      <td>118.000000</td>\n",
       "      <td>0.000000</td>\n",
       "    </tr>\n",
       "    <tr>\n",
       "      <th>25%</th>\n",
       "      <td>2011.000000</td>\n",
       "      <td>37.000000</td>\n",
       "      <td>1.000000</td>\n",
       "      <td>1.000000</td>\n",
       "      <td>38.000000</td>\n",
       "      <td>0.000000</td>\n",
       "      <td>2.000000</td>\n",
       "      <td>0.000000</td>\n",
       "      <td>0.000000</td>\n",
       "      <td>156.000000</td>\n",
       "      <td>139.000000</td>\n",
       "    </tr>\n",
       "    <tr>\n",
       "      <th>50%</th>\n",
       "      <td>2013.000000</td>\n",
       "      <td>45.000000</td>\n",
       "      <td>1.000000</td>\n",
       "      <td>1.000000</td>\n",
       "      <td>46.000000</td>\n",
       "      <td>0.000000</td>\n",
       "      <td>5.000000</td>\n",
       "      <td>0.000000</td>\n",
       "      <td>4.000000</td>\n",
       "      <td>165.000000</td>\n",
       "      <td>150.000000</td>\n",
       "    </tr>\n",
       "    <tr>\n",
       "      <th>75%</th>\n",
       "      <td>2016.000000</td>\n",
       "      <td>52.250000</td>\n",
       "      <td>2.000000</td>\n",
       "      <td>2.000000</td>\n",
       "      <td>55.000000</td>\n",
       "      <td>0.000000</td>\n",
       "      <td>8.000000</td>\n",
       "      <td>19.000000</td>\n",
       "      <td>6.000000</td>\n",
       "      <td>177.000000</td>\n",
       "      <td>170.000000</td>\n",
       "    </tr>\n",
       "    <tr>\n",
       "      <th>max</th>\n",
       "      <td>2019.000000</td>\n",
       "      <td>90.000000</td>\n",
       "      <td>7.000000</td>\n",
       "      <td>6.000000</td>\n",
       "      <td>100.000000</td>\n",
       "      <td>1.000000</td>\n",
       "      <td>15.000000</td>\n",
       "      <td>146.000000</td>\n",
       "      <td>10.000000</td>\n",
       "      <td>194.000000</td>\n",
       "      <td>182.000000</td>\n",
       "    </tr>\n",
       "  </tbody>\n",
       "</table>\n",
       "</div>"
      ],
      "text/plain": [
       "            season    Pplay T1  pplay twick1  pplay twick2    Pplay T2  \\\n",
       "count   756.000000  756.000000    756.000000    756.000000  756.000000   \n",
       "mean   2013.444444   45.178571      1.375661      1.474868   46.933862   \n",
       "std       3.366895   11.524974      1.069327      1.141930   12.775530   \n",
       "min    2008.000000   15.000000      0.000000      0.000000    2.000000   \n",
       "25%    2011.000000   37.000000      1.000000      1.000000   38.000000   \n",
       "50%    2013.000000   45.000000      1.000000      1.000000   46.000000   \n",
       "75%    2016.000000   52.250000      2.000000      2.000000   55.000000   \n",
       "max    2019.000000   90.000000      7.000000      6.000000  100.000000   \n",
       "\n",
       "       dl_applied      winner  win_by_runs  win_by_wickets  \\\n",
       "count  756.000000  756.000000   756.000000      756.000000   \n",
       "mean     0.025132    5.416667    13.283069        3.350529   \n",
       "std      0.156630    3.421736    23.471144        3.387963   \n",
       "min      0.000000    1.000000     0.000000        0.000000   \n",
       "25%      0.000000    2.000000     0.000000        0.000000   \n",
       "50%      0.000000    5.000000     0.000000        4.000000   \n",
       "75%      0.000000    8.000000    19.000000        6.000000   \n",
       "max      1.000000   15.000000   146.000000       10.000000   \n",
       "\n",
       "       Avg 1st Innings Score  Avg 2nd Innings Score  \n",
       "count             756.000000             756.000000  \n",
       "mean              165.683862             143.246032  \n",
       "std                16.232069              40.908365  \n",
       "min               118.000000               0.000000  \n",
       "25%               156.000000             139.000000  \n",
       "50%               165.000000             150.000000  \n",
       "75%               177.000000             170.000000  \n",
       "max               194.000000             182.000000  "
      ]
     },
     "execution_count": 14,
     "metadata": {},
     "output_type": "execute_result"
    }
   ],
   "source": [
    "matches.describe()"
   ]
  },
  {
   "cell_type": "code",
   "execution_count": 15,
   "metadata": {},
   "outputs": [],
   "source": [
    "dummy1=pd.get_dummies(matches['city'])\n",
    "dummy2=pd.get_dummies(matches['toss_decision'])\n",
    "dummy3=pd.get_dummies(matches['result'])\n",
    "dummy4=pd.get_dummies(matches['Pitch Type'])\n",
    "dummy7=pd.get_dummies(matches['toss_winner'])\n",
    "dummy8=pd.get_dummies(matches['season'])"
   ]
  },
  {
   "cell_type": "code",
   "execution_count": 16,
   "metadata": {},
   "outputs": [
    {
     "data": {
      "text/html": [
       "<div>\n",
       "<style scoped>\n",
       "    .dataframe tbody tr th:only-of-type {\n",
       "        vertical-align: middle;\n",
       "    }\n",
       "\n",
       "    .dataframe tbody tr th {\n",
       "        vertical-align: top;\n",
       "    }\n",
       "\n",
       "    .dataframe thead th {\n",
       "        text-align: right;\n",
       "    }\n",
       "</style>\n",
       "<table border=\"1\" class=\"dataframe\">\n",
       "  <thead>\n",
       "    <tr style=\"text-align: right;\">\n",
       "      <th></th>\n",
       "      <th>season</th>\n",
       "      <th>city</th>\n",
       "      <th>team1</th>\n",
       "      <th>Pplay T1</th>\n",
       "      <th>pplay twick1</th>\n",
       "      <th>team2</th>\n",
       "      <th>pplay twick2</th>\n",
       "      <th>Pplay T2</th>\n",
       "      <th>toss_winner</th>\n",
       "      <th>toss_decision</th>\n",
       "      <th>...</th>\n",
       "      <th>2010</th>\n",
       "      <th>2011</th>\n",
       "      <th>2012</th>\n",
       "      <th>2013</th>\n",
       "      <th>2014</th>\n",
       "      <th>2015</th>\n",
       "      <th>2016</th>\n",
       "      <th>2017</th>\n",
       "      <th>2018</th>\n",
       "      <th>2019</th>\n",
       "    </tr>\n",
       "  </thead>\n",
       "  <tbody>\n",
       "    <tr>\n",
       "      <th>0</th>\n",
       "      <td>2017</td>\n",
       "      <td>Hyderabad</td>\n",
       "      <td>SRH</td>\n",
       "      <td>59</td>\n",
       "      <td>1</td>\n",
       "      <td>RCB</td>\n",
       "      <td>1</td>\n",
       "      <td>54</td>\n",
       "      <td>RCB</td>\n",
       "      <td>field</td>\n",
       "      <td>...</td>\n",
       "      <td>0</td>\n",
       "      <td>0</td>\n",
       "      <td>0</td>\n",
       "      <td>0</td>\n",
       "      <td>0</td>\n",
       "      <td>0</td>\n",
       "      <td>0</td>\n",
       "      <td>1</td>\n",
       "      <td>0</td>\n",
       "      <td>0</td>\n",
       "    </tr>\n",
       "    <tr>\n",
       "      <th>1</th>\n",
       "      <td>2017</td>\n",
       "      <td>Pune</td>\n",
       "      <td>MI</td>\n",
       "      <td>61</td>\n",
       "      <td>1</td>\n",
       "      <td>RPS</td>\n",
       "      <td>1</td>\n",
       "      <td>59</td>\n",
       "      <td>RPS</td>\n",
       "      <td>field</td>\n",
       "      <td>...</td>\n",
       "      <td>0</td>\n",
       "      <td>0</td>\n",
       "      <td>0</td>\n",
       "      <td>0</td>\n",
       "      <td>0</td>\n",
       "      <td>0</td>\n",
       "      <td>0</td>\n",
       "      <td>1</td>\n",
       "      <td>0</td>\n",
       "      <td>0</td>\n",
       "    </tr>\n",
       "    <tr>\n",
       "      <th>2</th>\n",
       "      <td>2017</td>\n",
       "      <td>Rajkot</td>\n",
       "      <td>GL</td>\n",
       "      <td>52</td>\n",
       "      <td>1</td>\n",
       "      <td>KKR</td>\n",
       "      <td>0</td>\n",
       "      <td>73</td>\n",
       "      <td>KKR</td>\n",
       "      <td>field</td>\n",
       "      <td>...</td>\n",
       "      <td>0</td>\n",
       "      <td>0</td>\n",
       "      <td>0</td>\n",
       "      <td>0</td>\n",
       "      <td>0</td>\n",
       "      <td>0</td>\n",
       "      <td>0</td>\n",
       "      <td>1</td>\n",
       "      <td>0</td>\n",
       "      <td>0</td>\n",
       "    </tr>\n",
       "    <tr>\n",
       "      <th>3</th>\n",
       "      <td>2017</td>\n",
       "      <td>Indore</td>\n",
       "      <td>RPS</td>\n",
       "      <td>35</td>\n",
       "      <td>1</td>\n",
       "      <td>KXIP</td>\n",
       "      <td>2</td>\n",
       "      <td>56</td>\n",
       "      <td>KXIP</td>\n",
       "      <td>field</td>\n",
       "      <td>...</td>\n",
       "      <td>0</td>\n",
       "      <td>0</td>\n",
       "      <td>0</td>\n",
       "      <td>0</td>\n",
       "      <td>0</td>\n",
       "      <td>0</td>\n",
       "      <td>0</td>\n",
       "      <td>1</td>\n",
       "      <td>0</td>\n",
       "      <td>0</td>\n",
       "    </tr>\n",
       "    <tr>\n",
       "      <th>4</th>\n",
       "      <td>2017</td>\n",
       "      <td>Bangalore</td>\n",
       "      <td>RCB</td>\n",
       "      <td>41</td>\n",
       "      <td>2</td>\n",
       "      <td>DD</td>\n",
       "      <td>2</td>\n",
       "      <td>43</td>\n",
       "      <td>RCB</td>\n",
       "      <td>bat</td>\n",
       "      <td>...</td>\n",
       "      <td>0</td>\n",
       "      <td>0</td>\n",
       "      <td>0</td>\n",
       "      <td>0</td>\n",
       "      <td>0</td>\n",
       "      <td>0</td>\n",
       "      <td>0</td>\n",
       "      <td>1</td>\n",
       "      <td>0</td>\n",
       "      <td>0</td>\n",
       "    </tr>\n",
       "  </tbody>\n",
       "</table>\n",
       "<p>5 rows × 87 columns</p>\n",
       "</div>"
      ],
      "text/plain": [
       "   season       city team1  Pplay T1  pplay twick1 team2  pplay twick2  \\\n",
       "0    2017  Hyderabad   SRH        59             1   RCB             1   \n",
       "1    2017       Pune    MI        61             1   RPS             1   \n",
       "2    2017     Rajkot    GL        52             1   KKR             0   \n",
       "3    2017     Indore   RPS        35             1  KXIP             2   \n",
       "4    2017  Bangalore   RCB        41             2    DD             2   \n",
       "\n",
       "   Pplay T2 toss_winner toss_decision  ... 2010  2011  2012  2013  2014 2015  \\\n",
       "0        54         RCB         field  ...    0     0     0     0     0    0   \n",
       "1        59         RPS         field  ...    0     0     0     0     0    0   \n",
       "2        73         KKR         field  ...    0     0     0     0     0    0   \n",
       "3        56        KXIP         field  ...    0     0     0     0     0    0   \n",
       "4        43         RCB           bat  ...    0     0     0     0     0    0   \n",
       "\n",
       "   2016  2017 2018  2019  \n",
       "0     0     1    0     0  \n",
       "1     0     1    0     0  \n",
       "2     0     1    0     0  \n",
       "3     0     1    0     0  \n",
       "4     0     1    0     0  \n",
       "\n",
       "[5 rows x 87 columns]"
      ]
     },
     "execution_count": 16,
     "metadata": {},
     "output_type": "execute_result"
    }
   ],
   "source": [
    "matches=pd.concat([matches,dummy1,dummy2,dummy3,dummy4,dummy7,dummy8],axis=1)\n",
    "matches.head()"
   ]
  },
  {
   "cell_type": "code",
   "execution_count": 17,
   "metadata": {},
   "outputs": [],
   "source": [
    "matches=matches.drop(['city','toss_decision','toss_winner','Pitch Type','result','season'],axis=1)"
   ]
  },
  {
   "cell_type": "code",
   "execution_count": 18,
   "metadata": {},
   "outputs": [
    {
     "data": {
      "text/html": [
       "<div>\n",
       "<style scoped>\n",
       "    .dataframe tbody tr th:only-of-type {\n",
       "        vertical-align: middle;\n",
       "    }\n",
       "\n",
       "    .dataframe tbody tr th {\n",
       "        vertical-align: top;\n",
       "    }\n",
       "\n",
       "    .dataframe thead th {\n",
       "        text-align: right;\n",
       "    }\n",
       "</style>\n",
       "<table border=\"1\" class=\"dataframe\">\n",
       "  <thead>\n",
       "    <tr style=\"text-align: right;\">\n",
       "      <th></th>\n",
       "      <th>team1</th>\n",
       "      <th>Pplay T1</th>\n",
       "      <th>pplay twick1</th>\n",
       "      <th>team2</th>\n",
       "      <th>pplay twick2</th>\n",
       "      <th>Pplay T2</th>\n",
       "      <th>dl_applied</th>\n",
       "      <th>winner</th>\n",
       "      <th>win_by_runs</th>\n",
       "      <th>win_by_wickets</th>\n",
       "      <th>...</th>\n",
       "      <th>2010</th>\n",
       "      <th>2011</th>\n",
       "      <th>2012</th>\n",
       "      <th>2013</th>\n",
       "      <th>2014</th>\n",
       "      <th>2015</th>\n",
       "      <th>2016</th>\n",
       "      <th>2017</th>\n",
       "      <th>2018</th>\n",
       "      <th>2019</th>\n",
       "    </tr>\n",
       "  </thead>\n",
       "  <tbody>\n",
       "    <tr>\n",
       "      <th>1</th>\n",
       "      <td>MI</td>\n",
       "      <td>61</td>\n",
       "      <td>1</td>\n",
       "      <td>RPS</td>\n",
       "      <td>1</td>\n",
       "      <td>59</td>\n",
       "      <td>0</td>\n",
       "      <td>11</td>\n",
       "      <td>0</td>\n",
       "      <td>7</td>\n",
       "      <td>...</td>\n",
       "      <td>0</td>\n",
       "      <td>0</td>\n",
       "      <td>0</td>\n",
       "      <td>0</td>\n",
       "      <td>0</td>\n",
       "      <td>0</td>\n",
       "      <td>0</td>\n",
       "      <td>1</td>\n",
       "      <td>0</td>\n",
       "      <td>0</td>\n",
       "    </tr>\n",
       "    <tr>\n",
       "      <th>2</th>\n",
       "      <td>GL</td>\n",
       "      <td>52</td>\n",
       "      <td>1</td>\n",
       "      <td>KKR</td>\n",
       "      <td>0</td>\n",
       "      <td>73</td>\n",
       "      <td>0</td>\n",
       "      <td>2</td>\n",
       "      <td>0</td>\n",
       "      <td>10</td>\n",
       "      <td>...</td>\n",
       "      <td>0</td>\n",
       "      <td>0</td>\n",
       "      <td>0</td>\n",
       "      <td>0</td>\n",
       "      <td>0</td>\n",
       "      <td>0</td>\n",
       "      <td>0</td>\n",
       "      <td>1</td>\n",
       "      <td>0</td>\n",
       "      <td>0</td>\n",
       "    </tr>\n",
       "    <tr>\n",
       "      <th>3</th>\n",
       "      <td>RPS</td>\n",
       "      <td>35</td>\n",
       "      <td>1</td>\n",
       "      <td>KXIP</td>\n",
       "      <td>2</td>\n",
       "      <td>56</td>\n",
       "      <td>0</td>\n",
       "      <td>9</td>\n",
       "      <td>0</td>\n",
       "      <td>6</td>\n",
       "      <td>...</td>\n",
       "      <td>0</td>\n",
       "      <td>0</td>\n",
       "      <td>0</td>\n",
       "      <td>0</td>\n",
       "      <td>0</td>\n",
       "      <td>0</td>\n",
       "      <td>0</td>\n",
       "      <td>1</td>\n",
       "      <td>0</td>\n",
       "      <td>0</td>\n",
       "    </tr>\n",
       "    <tr>\n",
       "      <th>4</th>\n",
       "      <td>RCB</td>\n",
       "      <td>41</td>\n",
       "      <td>2</td>\n",
       "      <td>DD</td>\n",
       "      <td>2</td>\n",
       "      <td>43</td>\n",
       "      <td>0</td>\n",
       "      <td>3</td>\n",
       "      <td>15</td>\n",
       "      <td>0</td>\n",
       "      <td>...</td>\n",
       "      <td>0</td>\n",
       "      <td>0</td>\n",
       "      <td>0</td>\n",
       "      <td>0</td>\n",
       "      <td>0</td>\n",
       "      <td>0</td>\n",
       "      <td>0</td>\n",
       "      <td>1</td>\n",
       "      <td>0</td>\n",
       "      <td>0</td>\n",
       "    </tr>\n",
       "    <tr>\n",
       "      <th>5</th>\n",
       "      <td>GL</td>\n",
       "      <td>40</td>\n",
       "      <td>2</td>\n",
       "      <td>SRH</td>\n",
       "      <td>1</td>\n",
       "      <td>59</td>\n",
       "      <td>0</td>\n",
       "      <td>10</td>\n",
       "      <td>0</td>\n",
       "      <td>9</td>\n",
       "      <td>...</td>\n",
       "      <td>0</td>\n",
       "      <td>0</td>\n",
       "      <td>0</td>\n",
       "      <td>0</td>\n",
       "      <td>0</td>\n",
       "      <td>0</td>\n",
       "      <td>0</td>\n",
       "      <td>1</td>\n",
       "      <td>0</td>\n",
       "      <td>0</td>\n",
       "    </tr>\n",
       "    <tr>\n",
       "      <th>6</th>\n",
       "      <td>KKR</td>\n",
       "      <td>59</td>\n",
       "      <td>2</td>\n",
       "      <td>MI</td>\n",
       "      <td>0</td>\n",
       "      <td>49</td>\n",
       "      <td>0</td>\n",
       "      <td>1</td>\n",
       "      <td>0</td>\n",
       "      <td>4</td>\n",
       "      <td>...</td>\n",
       "      <td>0</td>\n",
       "      <td>0</td>\n",
       "      <td>0</td>\n",
       "      <td>0</td>\n",
       "      <td>0</td>\n",
       "      <td>0</td>\n",
       "      <td>0</td>\n",
       "      <td>1</td>\n",
       "      <td>0</td>\n",
       "      <td>0</td>\n",
       "    </tr>\n",
       "    <tr>\n",
       "      <th>7</th>\n",
       "      <td>RCB</td>\n",
       "      <td>23</td>\n",
       "      <td>3</td>\n",
       "      <td>KXIP</td>\n",
       "      <td>1</td>\n",
       "      <td>62</td>\n",
       "      <td>0</td>\n",
       "      <td>9</td>\n",
       "      <td>0</td>\n",
       "      <td>8</td>\n",
       "      <td>...</td>\n",
       "      <td>0</td>\n",
       "      <td>0</td>\n",
       "      <td>0</td>\n",
       "      <td>0</td>\n",
       "      <td>0</td>\n",
       "      <td>0</td>\n",
       "      <td>0</td>\n",
       "      <td>1</td>\n",
       "      <td>0</td>\n",
       "      <td>0</td>\n",
       "    </tr>\n",
       "    <tr>\n",
       "      <th>8</th>\n",
       "      <td>DD</td>\n",
       "      <td>62</td>\n",
       "      <td>1</td>\n",
       "      <td>RPS</td>\n",
       "      <td>3</td>\n",
       "      <td>50</td>\n",
       "      <td>0</td>\n",
       "      <td>7</td>\n",
       "      <td>97</td>\n",
       "      <td>0</td>\n",
       "      <td>...</td>\n",
       "      <td>0</td>\n",
       "      <td>0</td>\n",
       "      <td>0</td>\n",
       "      <td>0</td>\n",
       "      <td>0</td>\n",
       "      <td>0</td>\n",
       "      <td>0</td>\n",
       "      <td>1</td>\n",
       "      <td>0</td>\n",
       "      <td>0</td>\n",
       "    </tr>\n",
       "    <tr>\n",
       "      <th>9</th>\n",
       "      <td>SRH</td>\n",
       "      <td>34</td>\n",
       "      <td>0</td>\n",
       "      <td>MI</td>\n",
       "      <td>2</td>\n",
       "      <td>61</td>\n",
       "      <td>0</td>\n",
       "      <td>1</td>\n",
       "      <td>0</td>\n",
       "      <td>4</td>\n",
       "      <td>...</td>\n",
       "      <td>0</td>\n",
       "      <td>0</td>\n",
       "      <td>0</td>\n",
       "      <td>0</td>\n",
       "      <td>0</td>\n",
       "      <td>0</td>\n",
       "      <td>0</td>\n",
       "      <td>1</td>\n",
       "      <td>0</td>\n",
       "      <td>0</td>\n",
       "    </tr>\n",
       "    <tr>\n",
       "      <th>10</th>\n",
       "      <td>KXIP</td>\n",
       "      <td>57</td>\n",
       "      <td>1</td>\n",
       "      <td>KKR</td>\n",
       "      <td>1</td>\n",
       "      <td>76</td>\n",
       "      <td>0</td>\n",
       "      <td>2</td>\n",
       "      <td>0</td>\n",
       "      <td>8</td>\n",
       "      <td>...</td>\n",
       "      <td>0</td>\n",
       "      <td>0</td>\n",
       "      <td>0</td>\n",
       "      <td>0</td>\n",
       "      <td>0</td>\n",
       "      <td>0</td>\n",
       "      <td>0</td>\n",
       "      <td>1</td>\n",
       "      <td>0</td>\n",
       "      <td>0</td>\n",
       "    </tr>\n",
       "  </tbody>\n",
       "</table>\n",
       "<p>10 rows × 81 columns</p>\n",
       "</div>"
      ],
      "text/plain": [
       "   team1  Pplay T1  pplay twick1 team2  pplay twick2  Pplay T2  dl_applied  \\\n",
       "1     MI        61             1   RPS             1        59           0   \n",
       "2     GL        52             1   KKR             0        73           0   \n",
       "3    RPS        35             1  KXIP             2        56           0   \n",
       "4    RCB        41             2    DD             2        43           0   \n",
       "5     GL        40             2   SRH             1        59           0   \n",
       "6    KKR        59             2    MI             0        49           0   \n",
       "7    RCB        23             3  KXIP             1        62           0   \n",
       "8     DD        62             1   RPS             3        50           0   \n",
       "9    SRH        34             0    MI             2        61           0   \n",
       "10  KXIP        57             1   KKR             1        76           0   \n",
       "\n",
       "    winner  win_by_runs  win_by_wickets  ... 2010  2011  2012  2013  2014  \\\n",
       "1       11            0               7  ...    0     0     0     0     0   \n",
       "2        2            0              10  ...    0     0     0     0     0   \n",
       "3        9            0               6  ...    0     0     0     0     0   \n",
       "4        3           15               0  ...    0     0     0     0     0   \n",
       "5       10            0               9  ...    0     0     0     0     0   \n",
       "6        1            0               4  ...    0     0     0     0     0   \n",
       "7        9            0               8  ...    0     0     0     0     0   \n",
       "8        7           97               0  ...    0     0     0     0     0   \n",
       "9        1            0               4  ...    0     0     0     0     0   \n",
       "10       2            0               8  ...    0     0     0     0     0   \n",
       "\n",
       "    2015  2016  2017  2018  2019  \n",
       "1      0     0     1     0     0  \n",
       "2      0     0     1     0     0  \n",
       "3      0     0     1     0     0  \n",
       "4      0     0     1     0     0  \n",
       "5      0     0     1     0     0  \n",
       "6      0     0     1     0     0  \n",
       "7      0     0     1     0     0  \n",
       "8      0     0     1     0     0  \n",
       "9      0     0     1     0     0  \n",
       "10     0     0     1     0     0  \n",
       "\n",
       "[10 rows x 81 columns]"
      ]
     },
     "execution_count": 18,
     "metadata": {},
     "output_type": "execute_result"
    }
   ],
   "source": [
    "matches.loc[1:10]"
   ]
  },
  {
   "cell_type": "code",
   "execution_count": 19,
   "metadata": {},
   "outputs": [],
   "source": [
    "matches=matches.drop(['venue'],axis=1)"
   ]
  },
  {
   "cell_type": "code",
   "execution_count": 20,
   "metadata": {},
   "outputs": [],
   "source": [
    "dummy9=pd.get_dummies(matches['team1'])"
   ]
  },
  {
   "cell_type": "code",
   "execution_count": 21,
   "metadata": {},
   "outputs": [],
   "source": [
    "dummy10=pd.get_dummies(matches['team2'])"
   ]
  },
  {
   "cell_type": "code",
   "execution_count": 22,
   "metadata": {},
   "outputs": [
    {
     "data": {
      "text/html": [
       "<div>\n",
       "<style scoped>\n",
       "    .dataframe tbody tr th:only-of-type {\n",
       "        vertical-align: middle;\n",
       "    }\n",
       "\n",
       "    .dataframe tbody tr th {\n",
       "        vertical-align: top;\n",
       "    }\n",
       "\n",
       "    .dataframe thead th {\n",
       "        text-align: right;\n",
       "    }\n",
       "</style>\n",
       "<table border=\"1\" class=\"dataframe\">\n",
       "  <thead>\n",
       "    <tr style=\"text-align: right;\">\n",
       "      <th></th>\n",
       "      <th>team1</th>\n",
       "      <th>Pplay T1</th>\n",
       "      <th>pplay twick1</th>\n",
       "      <th>team2</th>\n",
       "      <th>pplay twick2</th>\n",
       "      <th>Pplay T2</th>\n",
       "      <th>dl_applied</th>\n",
       "      <th>winner</th>\n",
       "      <th>win_by_runs</th>\n",
       "      <th>win_by_wickets</th>\n",
       "      <th>...</th>\n",
       "      <th>GL</th>\n",
       "      <th>KKR</th>\n",
       "      <th>KTK</th>\n",
       "      <th>KXIP</th>\n",
       "      <th>MI</th>\n",
       "      <th>PW</th>\n",
       "      <th>RCB</th>\n",
       "      <th>RPS</th>\n",
       "      <th>RR</th>\n",
       "      <th>SRH</th>\n",
       "    </tr>\n",
       "  </thead>\n",
       "  <tbody>\n",
       "    <tr>\n",
       "      <th>0</th>\n",
       "      <td>SRH</td>\n",
       "      <td>59</td>\n",
       "      <td>1</td>\n",
       "      <td>RCB</td>\n",
       "      <td>1</td>\n",
       "      <td>54</td>\n",
       "      <td>0</td>\n",
       "      <td>10</td>\n",
       "      <td>35</td>\n",
       "      <td>0</td>\n",
       "      <td>...</td>\n",
       "      <td>0</td>\n",
       "      <td>0</td>\n",
       "      <td>0</td>\n",
       "      <td>0</td>\n",
       "      <td>0</td>\n",
       "      <td>0</td>\n",
       "      <td>1</td>\n",
       "      <td>0</td>\n",
       "      <td>0</td>\n",
       "      <td>0</td>\n",
       "    </tr>\n",
       "    <tr>\n",
       "      <th>1</th>\n",
       "      <td>MI</td>\n",
       "      <td>61</td>\n",
       "      <td>1</td>\n",
       "      <td>RPS</td>\n",
       "      <td>1</td>\n",
       "      <td>59</td>\n",
       "      <td>0</td>\n",
       "      <td>11</td>\n",
       "      <td>0</td>\n",
       "      <td>7</td>\n",
       "      <td>...</td>\n",
       "      <td>0</td>\n",
       "      <td>0</td>\n",
       "      <td>0</td>\n",
       "      <td>0</td>\n",
       "      <td>0</td>\n",
       "      <td>0</td>\n",
       "      <td>0</td>\n",
       "      <td>1</td>\n",
       "      <td>0</td>\n",
       "      <td>0</td>\n",
       "    </tr>\n",
       "    <tr>\n",
       "      <th>2</th>\n",
       "      <td>GL</td>\n",
       "      <td>52</td>\n",
       "      <td>1</td>\n",
       "      <td>KKR</td>\n",
       "      <td>0</td>\n",
       "      <td>73</td>\n",
       "      <td>0</td>\n",
       "      <td>2</td>\n",
       "      <td>0</td>\n",
       "      <td>10</td>\n",
       "      <td>...</td>\n",
       "      <td>0</td>\n",
       "      <td>1</td>\n",
       "      <td>0</td>\n",
       "      <td>0</td>\n",
       "      <td>0</td>\n",
       "      <td>0</td>\n",
       "      <td>0</td>\n",
       "      <td>0</td>\n",
       "      <td>0</td>\n",
       "      <td>0</td>\n",
       "    </tr>\n",
       "    <tr>\n",
       "      <th>3</th>\n",
       "      <td>RPS</td>\n",
       "      <td>35</td>\n",
       "      <td>1</td>\n",
       "      <td>KXIP</td>\n",
       "      <td>2</td>\n",
       "      <td>56</td>\n",
       "      <td>0</td>\n",
       "      <td>9</td>\n",
       "      <td>0</td>\n",
       "      <td>6</td>\n",
       "      <td>...</td>\n",
       "      <td>0</td>\n",
       "      <td>0</td>\n",
       "      <td>0</td>\n",
       "      <td>1</td>\n",
       "      <td>0</td>\n",
       "      <td>0</td>\n",
       "      <td>0</td>\n",
       "      <td>0</td>\n",
       "      <td>0</td>\n",
       "      <td>0</td>\n",
       "    </tr>\n",
       "    <tr>\n",
       "      <th>4</th>\n",
       "      <td>RCB</td>\n",
       "      <td>41</td>\n",
       "      <td>2</td>\n",
       "      <td>DD</td>\n",
       "      <td>2</td>\n",
       "      <td>43</td>\n",
       "      <td>0</td>\n",
       "      <td>3</td>\n",
       "      <td>15</td>\n",
       "      <td>0</td>\n",
       "      <td>...</td>\n",
       "      <td>0</td>\n",
       "      <td>0</td>\n",
       "      <td>0</td>\n",
       "      <td>0</td>\n",
       "      <td>0</td>\n",
       "      <td>0</td>\n",
       "      <td>0</td>\n",
       "      <td>0</td>\n",
       "      <td>0</td>\n",
       "      <td>0</td>\n",
       "    </tr>\n",
       "  </tbody>\n",
       "</table>\n",
       "<p>5 rows × 108 columns</p>\n",
       "</div>"
      ],
      "text/plain": [
       "  team1  Pplay T1  pplay twick1 team2  pplay twick2  Pplay T2  dl_applied  \\\n",
       "0   SRH        59             1   RCB             1        54           0   \n",
       "1    MI        61             1   RPS             1        59           0   \n",
       "2    GL        52             1   KKR             0        73           0   \n",
       "3   RPS        35             1  KXIP             2        56           0   \n",
       "4   RCB        41             2    DD             2        43           0   \n",
       "\n",
       "   winner  win_by_runs  win_by_wickets  ...  GL  KKR  KTK  KXIP  MI  PW  RCB  \\\n",
       "0      10           35               0  ...   0    0    0     0   0   0    1   \n",
       "1      11            0               7  ...   0    0    0     0   0   0    0   \n",
       "2       2            0              10  ...   0    1    0     0   0   0    0   \n",
       "3       9            0               6  ...   0    0    0     1   0   0    0   \n",
       "4       3           15               0  ...   0    0    0     0   0   0    0   \n",
       "\n",
       "   RPS  RR  SRH  \n",
       "0    0   0    0  \n",
       "1    1   0    0  \n",
       "2    0   0    0  \n",
       "3    0   0    0  \n",
       "4    0   0    0  \n",
       "\n",
       "[5 rows x 108 columns]"
      ]
     },
     "execution_count": 22,
     "metadata": {},
     "output_type": "execute_result"
    }
   ],
   "source": [
    "matches=pd.concat([matches,dummy9,dummy10],axis=1)\n",
    "matches.head()"
   ]
  },
  {
   "cell_type": "code",
   "execution_count": 23,
   "metadata": {},
   "outputs": [],
   "source": [
    "matches=matches.drop(['team1','team2'],axis=1)"
   ]
  },
  {
   "cell_type": "code",
   "execution_count": 24,
   "metadata": {},
   "outputs": [
    {
     "data": {
      "text/html": [
       "<div>\n",
       "<style scoped>\n",
       "    .dataframe tbody tr th:only-of-type {\n",
       "        vertical-align: middle;\n",
       "    }\n",
       "\n",
       "    .dataframe tbody tr th {\n",
       "        vertical-align: top;\n",
       "    }\n",
       "\n",
       "    .dataframe thead th {\n",
       "        text-align: right;\n",
       "    }\n",
       "</style>\n",
       "<table border=\"1\" class=\"dataframe\">\n",
       "  <thead>\n",
       "    <tr style=\"text-align: right;\">\n",
       "      <th></th>\n",
       "      <th>Pplay T1</th>\n",
       "      <th>pplay twick1</th>\n",
       "      <th>pplay twick2</th>\n",
       "      <th>Pplay T2</th>\n",
       "      <th>dl_applied</th>\n",
       "      <th>winner</th>\n",
       "      <th>win_by_runs</th>\n",
       "      <th>win_by_wickets</th>\n",
       "      <th>Avg 1st Innings Score</th>\n",
       "      <th>Avg 2nd Innings Score</th>\n",
       "      <th>...</th>\n",
       "      <th>GL</th>\n",
       "      <th>KKR</th>\n",
       "      <th>KTK</th>\n",
       "      <th>KXIP</th>\n",
       "      <th>MI</th>\n",
       "      <th>PW</th>\n",
       "      <th>RCB</th>\n",
       "      <th>RPS</th>\n",
       "      <th>RR</th>\n",
       "      <th>SRH</th>\n",
       "    </tr>\n",
       "  </thead>\n",
       "  <tbody>\n",
       "    <tr>\n",
       "      <th>0</th>\n",
       "      <td>59</td>\n",
       "      <td>1</td>\n",
       "      <td>1</td>\n",
       "      <td>54</td>\n",
       "      <td>0</td>\n",
       "      <td>10</td>\n",
       "      <td>35</td>\n",
       "      <td>0</td>\n",
       "      <td>185</td>\n",
       "      <td>175</td>\n",
       "      <td>...</td>\n",
       "      <td>0</td>\n",
       "      <td>0</td>\n",
       "      <td>0</td>\n",
       "      <td>0</td>\n",
       "      <td>0</td>\n",
       "      <td>0</td>\n",
       "      <td>1</td>\n",
       "      <td>0</td>\n",
       "      <td>0</td>\n",
       "      <td>0</td>\n",
       "    </tr>\n",
       "    <tr>\n",
       "      <th>1</th>\n",
       "      <td>61</td>\n",
       "      <td>1</td>\n",
       "      <td>1</td>\n",
       "      <td>59</td>\n",
       "      <td>0</td>\n",
       "      <td>11</td>\n",
       "      <td>0</td>\n",
       "      <td>7</td>\n",
       "      <td>160</td>\n",
       "      <td>148</td>\n",
       "      <td>...</td>\n",
       "      <td>0</td>\n",
       "      <td>0</td>\n",
       "      <td>0</td>\n",
       "      <td>0</td>\n",
       "      <td>0</td>\n",
       "      <td>0</td>\n",
       "      <td>0</td>\n",
       "      <td>1</td>\n",
       "      <td>0</td>\n",
       "      <td>0</td>\n",
       "    </tr>\n",
       "    <tr>\n",
       "      <th>2</th>\n",
       "      <td>52</td>\n",
       "      <td>1</td>\n",
       "      <td>0</td>\n",
       "      <td>73</td>\n",
       "      <td>0</td>\n",
       "      <td>2</td>\n",
       "      <td>0</td>\n",
       "      <td>10</td>\n",
       "      <td>183</td>\n",
       "      <td>170</td>\n",
       "      <td>...</td>\n",
       "      <td>0</td>\n",
       "      <td>1</td>\n",
       "      <td>0</td>\n",
       "      <td>0</td>\n",
       "      <td>0</td>\n",
       "      <td>0</td>\n",
       "      <td>0</td>\n",
       "      <td>0</td>\n",
       "      <td>0</td>\n",
       "      <td>0</td>\n",
       "    </tr>\n",
       "    <tr>\n",
       "      <th>3</th>\n",
       "      <td>35</td>\n",
       "      <td>1</td>\n",
       "      <td>2</td>\n",
       "      <td>56</td>\n",
       "      <td>0</td>\n",
       "      <td>9</td>\n",
       "      <td>0</td>\n",
       "      <td>6</td>\n",
       "      <td>160</td>\n",
       "      <td>158</td>\n",
       "      <td>...</td>\n",
       "      <td>0</td>\n",
       "      <td>0</td>\n",
       "      <td>0</td>\n",
       "      <td>1</td>\n",
       "      <td>0</td>\n",
       "      <td>0</td>\n",
       "      <td>0</td>\n",
       "      <td>0</td>\n",
       "      <td>0</td>\n",
       "      <td>0</td>\n",
       "    </tr>\n",
       "    <tr>\n",
       "      <th>4</th>\n",
       "      <td>41</td>\n",
       "      <td>2</td>\n",
       "      <td>2</td>\n",
       "      <td>43</td>\n",
       "      <td>0</td>\n",
       "      <td>3</td>\n",
       "      <td>15</td>\n",
       "      <td>0</td>\n",
       "      <td>170</td>\n",
       "      <td>150</td>\n",
       "      <td>...</td>\n",
       "      <td>0</td>\n",
       "      <td>0</td>\n",
       "      <td>0</td>\n",
       "      <td>0</td>\n",
       "      <td>0</td>\n",
       "      <td>0</td>\n",
       "      <td>0</td>\n",
       "      <td>0</td>\n",
       "      <td>0</td>\n",
       "      <td>0</td>\n",
       "    </tr>\n",
       "  </tbody>\n",
       "</table>\n",
       "<p>5 rows × 106 columns</p>\n",
       "</div>"
      ],
      "text/plain": [
       "   Pplay T1  pplay twick1  pplay twick2  Pplay T2  dl_applied  winner  \\\n",
       "0        59             1             1        54           0      10   \n",
       "1        61             1             1        59           0      11   \n",
       "2        52             1             0        73           0       2   \n",
       "3        35             1             2        56           0       9   \n",
       "4        41             2             2        43           0       3   \n",
       "\n",
       "   win_by_runs  win_by_wickets  Avg 1st Innings Score  Avg 2nd Innings Score  \\\n",
       "0           35               0                    185                    175   \n",
       "1            0               7                    160                    148   \n",
       "2            0              10                    183                    170   \n",
       "3            0               6                    160                    158   \n",
       "4           15               0                    170                    150   \n",
       "\n",
       "   ...  GL  KKR  KTK  KXIP  MI  PW  RCB  RPS  RR  SRH  \n",
       "0  ...   0    0    0     0   0   0    1    0   0    0  \n",
       "1  ...   0    0    0     0   0   0    0    1   0    0  \n",
       "2  ...   0    1    0     0   0   0    0    0   0    0  \n",
       "3  ...   0    0    0     1   0   0    0    0   0    0  \n",
       "4  ...   0    0    0     0   0   0    0    0   0    0  \n",
       "\n",
       "[5 rows x 106 columns]"
      ]
     },
     "execution_count": 24,
     "metadata": {},
     "output_type": "execute_result"
    }
   ],
   "source": [
    "matches.head()"
   ]
  },
  {
   "cell_type": "markdown",
   "metadata": {},
   "source": [
    "#### Logistic Regression"
   ]
  },
  {
   "cell_type": "code",
   "execution_count": 25,
   "metadata": {},
   "outputs": [],
   "source": [
    "import numpy as np"
   ]
  },
  {
   "cell_type": "code",
   "execution_count": 26,
   "metadata": {},
   "outputs": [],
   "source": [
    "x = matches.iloc[:,:-5].values \n",
    "y = matches.iloc[:,5].values"
   ]
  },
  {
   "cell_type": "code",
   "execution_count": 27,
   "metadata": {},
   "outputs": [],
   "source": [
    "from sklearn.model_selection import train_test_split\n",
    "x_train,x_test,y_train,y_test=train_test_split(x,y,test_size=0.20,random_state=0)"
   ]
  },
  {
   "cell_type": "code",
   "execution_count": 28,
   "metadata": {},
   "outputs": [],
   "source": [
    "from sklearn.preprocessing import StandardScaler\n",
    "sc_x= StandardScaler()\n",
    "x_train=sc_x.fit_transform(x_train)\n",
    "x_test=sc_x.transform(x_test)"
   ]
  },
  {
   "cell_type": "code",
   "execution_count": 29,
   "metadata": {},
   "outputs": [
    {
     "name": "stderr",
     "output_type": "stream",
     "text": [
      "C:\\Users\\nsidd\\Anaconda3\\lib\\site-packages\\sklearn\\linear_model\\logistic.py:432: FutureWarning: Default solver will be changed to 'lbfgs' in 0.22. Specify a solver to silence this warning.\n",
      "  FutureWarning)\n",
      "C:\\Users\\nsidd\\Anaconda3\\lib\\site-packages\\sklearn\\linear_model\\logistic.py:469: FutureWarning: Default multi_class will be changed to 'auto' in 0.22. Specify the multi_class option to silence this warning.\n",
      "  \"this warning.\", FutureWarning)\n"
     ]
    },
    {
     "data": {
      "text/plain": [
       "LogisticRegression(C=1.0, class_weight=None, dual=False, fit_intercept=True,\n",
       "                   intercept_scaling=1, l1_ratio=None, max_iter=100,\n",
       "                   multi_class='warn', n_jobs=None, penalty='l2',\n",
       "                   random_state=0, solver='warn', tol=0.0001, verbose=0,\n",
       "                   warm_start=False)"
      ]
     },
     "execution_count": 29,
     "metadata": {},
     "output_type": "execute_result"
    }
   ],
   "source": [
    "from sklearn.linear_model import LogisticRegression\n",
    "classifier=LogisticRegression(random_state=0)\n",
    "classifier.fit(x_train,y_train)"
   ]
  },
  {
   "cell_type": "code",
   "execution_count": 30,
   "metadata": {},
   "outputs": [
    {
     "data": {
      "text/plain": [
       "array([[ 0.36435665, -1.28470698, -0.41297106, ..., -0.10828339,\n",
       "        -0.37077818, -0.35025217],\n",
       "       [ 0.45158274, -0.37395227,  2.21265545, ..., -0.10828339,\n",
       "        -0.37077818, -0.35025217],\n",
       "       [-0.76958247, -0.37395227, -0.41297106, ..., -0.10828339,\n",
       "        -0.37077818, -0.35025217],\n",
       "       ...,\n",
       "       [ 2.28333055,  0.53680245,  0.46223778, ..., -0.10828339,\n",
       "        -0.37077818, -0.35025217],\n",
       "       [-0.07177378,  0.53680245,  1.33744661, ..., -0.10828339,\n",
       "        -0.37077818,  2.85508584],\n",
       "       [ 1.9344262 , -0.37395227,  1.33744661, ..., -0.10828339,\n",
       "        -0.37077818, -0.35025217]])"
      ]
     },
     "execution_count": 30,
     "metadata": {},
     "output_type": "execute_result"
    }
   ],
   "source": [
    "x_test"
   ]
  },
  {
   "cell_type": "code",
   "execution_count": 31,
   "metadata": {},
   "outputs": [],
   "source": [
    "y_pred=classifier.predict(x_test)"
   ]
  },
  {
   "cell_type": "code",
   "execution_count": 32,
   "metadata": {},
   "outputs": [
    {
     "data": {
      "text/plain": [
       "array([ 6,  5, 10,  6, 10,  8,  1, 11,  2,  4,  7,  7,  9,  9,  4,  5, 10,\n",
       "        2,  5,  5,  1,  9,  5,  4,  2,  5,  2, 11,  1,  4, 10,  9,  8, 10,\n",
       "        7,  6, 11,  1,  2,  3,  3,  1, 15,  3,  9,  9,  5,  2, 11,  5,  3,\n",
       "       11,  9,  3,  9,  2,  4,  3, 10,  3,  5,  4,  3,  2,  3,  6,  3, 10,\n",
       "        7,  5,  1,  6,  5, 10,  3,  1,  5,  5,  2,  1,  9, 13,  5, 10,  2,\n",
       "        2,  1,  1, 10,  9, 10,  5,  5,  2,  5,  1,  2,  9,  1,  5,  2,  3,\n",
       "        3,  6,  2,  1,  5,  7,  6, 15,  2,  6,  6,  1,  1,  8,  5, 13, 10,\n",
       "        1,  1,  9,  3,  7,  3,  5,  2,  2, 11,  7,  8,  6,  5,  9, 11,  7,\n",
       "        9,  6,  7,  1,  2, 10,  7,  7,  7, 10,  9,  1,  3,  1, 10,  2],\n",
       "      dtype=int64)"
      ]
     },
     "execution_count": 32,
     "metadata": {},
     "output_type": "execute_result"
    }
   ],
   "source": [
    "y_pred"
   ]
  },
  {
   "cell_type": "code",
   "execution_count": 33,
   "metadata": {},
   "outputs": [],
   "source": [
    "predicted_class=classifier.predict(x_test)"
   ]
  },
  {
   "cell_type": "code",
   "execution_count": 34,
   "metadata": {},
   "outputs": [],
   "source": [
    "from sklearn.metrics import accuracy_score"
   ]
  },
  {
   "cell_type": "code",
   "execution_count": 35,
   "metadata": {},
   "outputs": [
    {
     "name": "stdout",
     "output_type": "stream",
     "text": [
      "0.7105263157894737\n"
     ]
    }
   ],
   "source": [
    "accuracy = accuracy_score(y_test,predicted_class)\n",
    "parameters = classifier.coef_\n",
    "print(accuracy)"
   ]
  },
  {
   "cell_type": "code",
   "execution_count": 36,
   "metadata": {},
   "outputs": [],
   "source": [
    "from sklearn.metrics import confusion_matrix"
   ]
  },
  {
   "cell_type": "code",
   "execution_count": 37,
   "metadata": {},
   "outputs": [],
   "source": [
    "cm=confusion_matrix(y_test,y_pred)"
   ]
  },
  {
   "cell_type": "code",
   "execution_count": 38,
   "metadata": {},
   "outputs": [
    {
     "data": {
      "text/plain": [
       "array([[16,  2,  0,  0,  2,  0,  0,  0,  0,  0,  0,  0,  0],\n",
       "       [ 0, 16,  1,  0,  0,  1,  0,  0,  0,  0,  0,  0,  0],\n",
       "       [ 3,  0, 13,  1,  3,  2,  0,  0,  0,  0,  1,  0,  0],\n",
       "       [ 1,  0,  0,  2,  1,  0,  0,  0,  0,  0,  0,  0,  0],\n",
       "       [ 0,  2,  0,  1, 14,  0,  0,  0,  0,  0,  0,  0,  0],\n",
       "       [ 0,  0,  0,  1,  0,  7,  0,  0,  0,  1,  0,  0,  0],\n",
       "       [ 0,  0,  2,  1,  0,  0,  9,  2,  2,  1,  1,  2,  0],\n",
       "       [ 0,  0,  0,  0,  0,  0,  0,  2,  0,  0,  0,  0,  0],\n",
       "       [ 0,  0,  0,  0,  1,  1,  1,  0, 11,  1,  1,  0,  0],\n",
       "       [ 0,  0,  0,  0,  1,  0,  2,  0,  0, 12,  0,  0,  0],\n",
       "       [ 0,  0,  0,  0,  0,  0,  0,  0,  1,  0,  4,  0,  0],\n",
       "       [ 0,  0,  0,  0,  0,  0,  0,  0,  1,  0,  0,  0,  0],\n",
       "       [ 0,  0,  0,  0,  0,  0,  0,  0,  0,  0,  0,  0,  2]], dtype=int64)"
      ]
     },
     "execution_count": 38,
     "metadata": {},
     "output_type": "execute_result"
    }
   ],
   "source": [
    "cm"
   ]
  },
  {
   "cell_type": "code",
   "execution_count": 86,
   "metadata": {},
   "outputs": [
    {
     "data": {
      "text/plain": [
       "<matplotlib.axes._subplots.AxesSubplot at 0x2a0ffe856d8>"
      ]
     },
     "execution_count": 86,
     "metadata": {},
     "output_type": "execute_result"
    },
    {
     "data": {
      "image/png": "[encoded data removed]",
      "text/plain": [
       "<Figure size 360x504 with 2 Axes>"
      ]
     },
     "metadata": {
      "needs_background": "light"
     },
     "output_type": "display_data"
    }
   ],
   "source": [
    "import seaborn as sn\n",
    "import pandas as pd\n",
    "import matplotlib.pyplot as plt\n",
    "array = [[16,  2,  0,  0,  2,  0,  0,  0,  0,  0,  0,  0,  0],\n",
    "       [ 0, 16,  1,  0,  0,  1,  0,  0,  0,  0,  0,  0,  0],\n",
    "       [ 3,  0, 13,  1,  3,  2,  0,  0,  0,  0,  1,  0,  0],\n",
    "       [ 1,  0,  0,  2,  1,  0,  0,  0,  0,  0,  0,  0,  0],\n",
    "       [ 0,  2,  0,  1, 14,  0,  0,  0,  0,  0,  0,  0,  0],\n",
    "       [ 0,  0,  0,  1,  0,  7,  0,  0,  0,  1,  0,  0,  0],\n",
    "       [ 0,  0,  2,  1,  0,  0,  9,  2,  2,  1,  1,  2,  0],\n",
    "       [ 0,  0,  0,  0,  0,  0,  0,  2,  0,  0,  0,  0,  0],\n",
    "       [ 0,  0,  0,  0,  1,  1,  1,  0, 11,  1,  1,  0,  0],\n",
    "       [ 0,  0,  0,  0,  1,  0,  2,  0,  0, 12,  0,  0,  0],\n",
    "       [ 0,  0,  0,  0,  0,  0,  0,  0,  1,  0,  4,  0,  0],\n",
    "       [ 0,  0,  0,  0,  0,  0,  0,  0,  1,  0,  0,  0,  0],\n",
    "       [ 0,  0,  0,  0,  0,  0,  0,  0,  0,  0,  0,  0,  2]]\n",
    "df_cm2 = pd.DataFrame(array, index = [i for i in \"abcdefghijklm\"],\n",
    "                  columns = [i for i in \"abcdefghijklm\"])\n",
    "plt.figure(figsize = (5,7))\n",
    "sn.heatmap(df_cm2, annot=True)"
   ]
  },
  {
   "cell_type": "code",
   "execution_count": 40,
   "metadata": {},
   "outputs": [],
   "source": [
    "from sklearn.metrics import classification_report"
   ]
  },
  {
   "cell_type": "code",
   "execution_count": 41,
   "metadata": {},
   "outputs": [
    {
     "name": "stdout",
     "output_type": "stream",
     "text": [
      "              precision    recall  f1-score   support\n",
      "\n",
      "           1       0.80      0.80      0.80        20\n",
      "           2       0.80      0.89      0.84        18\n",
      "           3       0.81      0.57      0.67        23\n",
      "           4       0.33      0.50      0.40         4\n",
      "           5       0.64      0.82      0.72        17\n",
      "           6       0.64      0.78      0.70         9\n",
      "           7       0.75      0.45      0.56        20\n",
      "           8       0.50      1.00      0.67         2\n",
      "           9       0.73      0.69      0.71        16\n",
      "          10       0.80      0.80      0.80        15\n",
      "          11       0.57      0.80      0.67         5\n",
      "          13       0.00      0.00      0.00         1\n",
      "          15       1.00      1.00      1.00         2\n",
      "\n",
      "    accuracy                           0.71       152\n",
      "   macro avg       0.64      0.70      0.66       152\n",
      "weighted avg       0.73      0.71      0.71       152\n",
      "\n"
     ]
    }
   ],
   "source": [
    "print(classification_report(y_test,predicted_class))"
   ]
  },
  {
   "cell_type": "markdown",
   "metadata": {},
   "source": [
    "#### Scree Plot for Components"
   ]
  },
  {
   "cell_type": "code",
   "execution_count": 42,
   "metadata": {},
   "outputs": [],
   "source": [
    "data=matches.head()"
   ]
  },
  {
   "cell_type": "code",
   "execution_count": 43,
   "metadata": {},
   "outputs": [],
   "source": [
    "import numpy as np\n",
    "from sklearn.decomposition import PCA\n",
    "import pandas as pd\n",
    "import matplotlib.pyplot as plt\n",
    "from sklearn.preprocessing import scale\n",
    "\n",
    "%matplotlib inline\n",
    "\n",
    "#Load data set\n",
    "matches_data = data\n",
    "\n",
    "#convert it to numpy arrays\n",
    "X=matches_data.values\n",
    "\n",
    "#Scaling the values\n",
    "X = scale(X)\n",
    "\n",
    "pca = PCA(n_components=None,svd_solver=\"auto\")\n",
    "\n",
    "pca.fit(X)\n",
    "\n",
    "#The amount of variance that each PC explains\n",
    "var= pca.explained_variance_ratio_\n",
    "\n",
    "#Cumulative Variance explains\n",
    "var1=np.cumsum(np.round(pca.explained_variance_ratio_, decimals=4)*100)"
   ]
  },
  {
   "cell_type": "code",
   "execution_count": 44,
   "metadata": {},
   "outputs": [
    {
     "data": {
      "text/plain": [
       "array([32.15, 58.85, 80.49, 99.99, 99.99])"
      ]
     },
     "execution_count": 44,
     "metadata": {},
     "output_type": "execute_result"
    }
   ],
   "source": [
    "var1"
   ]
  },
  {
   "cell_type": "code",
   "execution_count": 45,
   "metadata": {},
   "outputs": [
    {
     "data": {
      "text/plain": [
       "[<matplotlib.lines.Line2D at 0x2a0fe7e6d68>]"
      ]
     },
     "execution_count": 45,
     "metadata": {},
     "output_type": "execute_result"
    },
    {
     "data": {
      "image/png": "[encoded data removed]",
      "text/plain": [
       "<Figure size 432x288 with 1 Axes>"
      ]
     },
     "metadata": {
      "needs_background": "light"
     },
     "output_type": "display_data"
    }
   ],
   "source": [
    "plt.plot(var1)"
   ]
  },
  {
   "cell_type": "markdown",
   "metadata": {},
   "source": [
    "#### From above picture, we can say that the graph is showing stability at 3 which means we can take no.of components as 3"
   ]
  },
  {
   "cell_type": "markdown",
   "metadata": {},
   "source": [
    "#### Ridge Regression"
   ]
  },
  {
   "cell_type": "code",
   "execution_count": 46,
   "metadata": {},
   "outputs": [],
   "source": [
    "from sklearn import metrics\n",
    "def get_train_test_rmse( model ): \n",
    "    y_train_pred = model.predict( x_train ) \n",
    "    rmse_train = round(np.sqrt(metrics.mean_squared_error( y_train, y_train_pred )), 3)   \n",
    "    y_test_pred = model.predict( x_test ) \n",
    "    rmse_test = round(np.sqrt(metrics.mean_squared_error( y_test, y_test_pred )), 3)   \n",
    "    print( \"train: \", rmse_train, \" test:\", rmse_test)"
   ]
  },
  {
   "cell_type": "code",
   "execution_count": 47,
   "metadata": {},
   "outputs": [],
   "source": [
    "from sklearn.linear_model import Ridge"
   ]
  },
  {
   "cell_type": "code",
   "execution_count": 48,
   "metadata": {},
   "outputs": [
    {
     "data": {
      "text/plain": [
       "Ridge(alpha=2, copy_X=True, fit_intercept=True, max_iter=500, normalize=False,\n",
       "      random_state=None, solver='auto', tol=0.001)"
      ]
     },
     "execution_count": 48,
     "metadata": {},
     "output_type": "execute_result"
    }
   ],
   "source": [
    "ridge=Ridge(alpha=2,max_iter=500)\n",
    "ridge.fit(x_train,y_train)"
   ]
  },
  {
   "cell_type": "code",
   "execution_count": 49,
   "metadata": {},
   "outputs": [
    {
     "name": "stdout",
     "output_type": "stream",
     "text": [
      "train:  0.016  test: 0.019\n"
     ]
    }
   ],
   "source": [
    "get_train_test_rmse(ridge)"
   ]
  },
  {
   "cell_type": "code",
   "execution_count": 50,
   "metadata": {},
   "outputs": [
    {
     "name": "stdout",
     "output_type": "stream",
     "text": [
      "train:  0.016  test: 0.019\n"
     ]
    }
   ],
   "source": [
    "ridge=Ridge(alpha=2,max_iter=1000)\n",
    "ridge.fit(x_train,y_train)\n",
    "get_train_test_rmse(ridge)"
   ]
  },
  {
   "cell_type": "markdown",
   "metadata": {},
   "source": [
    "### Lasso Regression"
   ]
  },
  {
   "cell_type": "code",
   "execution_count": 51,
   "metadata": {},
   "outputs": [
    {
     "data": {
      "text/plain": [
       "Lasso(alpha=2, copy_X=True, fit_intercept=True, max_iter=500, normalize=False,\n",
       "      positive=False, precompute=False, random_state=None, selection='cyclic',\n",
       "      tol=0.0001, warm_start=False)"
      ]
     },
     "execution_count": 51,
     "metadata": {},
     "output_type": "execute_result"
    }
   ],
   "source": [
    "from sklearn.linear_model import Lasso \n",
    "lasso = Lasso(alpha = 2, max_iter = 500) \n",
    "lasso.fit( x_train, y_train ) "
   ]
  },
  {
   "cell_type": "code",
   "execution_count": 52,
   "metadata": {},
   "outputs": [
    {
     "name": "stdout",
     "output_type": "stream",
     "text": [
      "train:  2.0  test: 1.966\n"
     ]
    }
   ],
   "source": [
    "get_train_test_rmse( lasso )"
   ]
  },
  {
   "cell_type": "markdown",
   "metadata": {},
   "source": [
    "##### From both Lasso & Ridge Regression there's no much difference between training and testing data so there's no Overfitting"
   ]
  },
  {
   "cell_type": "markdown",
   "metadata": {},
   "source": [
    "#### PCA Dimensionality Reduction"
   ]
  },
  {
   "cell_type": "code",
   "execution_count": 53,
   "metadata": {},
   "outputs": [],
   "source": [
    "from sklearn.preprocessing import StandardScaler"
   ]
  },
  {
   "cell_type": "code",
   "execution_count": 54,
   "metadata": {},
   "outputs": [],
   "source": [
    "scaler = StandardScaler()\n",
    "scaled_data = scaler.fit_transform(matches.values)"
   ]
  },
  {
   "cell_type": "code",
   "execution_count": 55,
   "metadata": {},
   "outputs": [],
   "source": [
    "from sklearn.decomposition import PCA"
   ]
  },
  {
   "cell_type": "code",
   "execution_count": 56,
   "metadata": {},
   "outputs": [],
   "source": [
    "sklearn_pca = PCA(n_components=3)"
   ]
  },
  {
   "cell_type": "code",
   "execution_count": 57,
   "metadata": {},
   "outputs": [],
   "source": [
    "reduced_data = sklearn_pca.fit_transform(matches.values)"
   ]
  },
  {
   "cell_type": "code",
   "execution_count": 58,
   "metadata": {},
   "outputs": [
    {
     "name": "stdout",
     "output_type": "stream",
     "text": [
      "(756, 106)\n",
      "(756, 3)\n"
     ]
    }
   ],
   "source": [
    "print(matches.shape)\n",
    "print(reduced_data.shape)"
   ]
  },
  {
   "cell_type": "code",
   "execution_count": 59,
   "metadata": {},
   "outputs": [
    {
     "name": "stderr",
     "output_type": "stream",
     "text": [
      "C:\\Users\\nsidd\\Anaconda3\\lib\\site-packages\\matplotlib\\collections.py:857: RuntimeWarning: invalid value encountered in sqrt\n",
      "  scale = np.sqrt(self._sizes) * dpi / 72.0 * self._factor\n"
     ]
    },
    {
     "data": {
      "image/png": "[encoded data removed]",
      "text/plain": [
       "<Figure size 432x288 with 1 Axes>"
      ]
     },
     "metadata": {
      "needs_background": "light"
     },
     "output_type": "display_data"
    }
   ],
   "source": [
    "plt.scatter(reduced_data[:, 0], reduced_data[:, 1],reduced_data[:, 2], label='Match points reduced')\n",
    "plt.title(\"PCA sklearn\")\n",
    "plt.legend()\n",
    "plt.show()"
   ]
  },
  {
   "cell_type": "code",
   "execution_count": 60,
   "metadata": {},
   "outputs": [
    {
     "data": {
      "text/plain": [
       "array([[-35.35194015,  21.68667055,  17.33366128],\n",
       "       [ -3.85550179, -13.60543366,   1.26384836],\n",
       "       [-30.49573711, -16.93001203,  20.48178838],\n",
       "       ...,\n",
       "       [ 14.23545124, -13.60076835,   0.61836331],\n",
       "       [ 14.67733238, -12.8055258 ,  -7.37876575],\n",
       "       [-35.36904903, -12.73804129,  12.52739291]])"
      ]
     },
     "execution_count": 60,
     "metadata": {},
     "output_type": "execute_result"
    }
   ],
   "source": [
    "reduced_data"
   ]
  },
  {
   "cell_type": "markdown",
   "metadata": {},
   "source": [
    "#### Logistic Regression with PCA"
   ]
  },
  {
   "cell_type": "code",
   "execution_count": 61,
   "metadata": {},
   "outputs": [],
   "source": [
    "x = reduced_data\n",
    "y = matches.iloc[:,5].values"
   ]
  },
  {
   "cell_type": "code",
   "execution_count": 62,
   "metadata": {},
   "outputs": [],
   "source": [
    "from sklearn.model_selection import train_test_split\n",
    "x_train,x_test,y_train,y_test=train_test_split(x,y,test_size=0.20,random_state=0)"
   ]
  },
  {
   "cell_type": "code",
   "execution_count": 63,
   "metadata": {},
   "outputs": [],
   "source": [
    "from sklearn.preprocessing import StandardScaler\n",
    "sc_x= StandardScaler()\n",
    "x_train=sc_x.fit_transform(x_train)\n",
    "x_test=sc_x.transform(x_test)"
   ]
  },
  {
   "cell_type": "code",
   "execution_count": 64,
   "metadata": {},
   "outputs": [
    {
     "name": "stderr",
     "output_type": "stream",
     "text": [
      "C:\\Users\\nsidd\\Anaconda3\\lib\\site-packages\\sklearn\\linear_model\\logistic.py:432: FutureWarning: Default solver will be changed to 'lbfgs' in 0.22. Specify a solver to silence this warning.\n",
      "  FutureWarning)\n",
      "C:\\Users\\nsidd\\Anaconda3\\lib\\site-packages\\sklearn\\linear_model\\logistic.py:469: FutureWarning: Default multi_class will be changed to 'auto' in 0.22. Specify the multi_class option to silence this warning.\n",
      "  \"this warning.\", FutureWarning)\n"
     ]
    },
    {
     "data": {
      "text/plain": [
       "LogisticRegression(C=1.0, class_weight=None, dual=False, fit_intercept=True,\n",
       "                   intercept_scaling=1, l1_ratio=None, max_iter=100,\n",
       "                   multi_class='warn', n_jobs=None, penalty='l2',\n",
       "                   random_state=0, solver='warn', tol=0.0001, verbose=0,\n",
       "                   warm_start=False)"
      ]
     },
     "execution_count": 64,
     "metadata": {},
     "output_type": "execute_result"
    }
   ],
   "source": [
    "from sklearn.linear_model import LogisticRegression\n",
    "classifier=LogisticRegression(random_state=0)\n",
    "classifier.fit(x_train,y_train)"
   ]
  },
  {
   "cell_type": "code",
   "execution_count": 65,
   "metadata": {},
   "outputs": [
    {
     "data": {
      "text/plain": [
       "array([[ 3.37415101, -0.62993626,  1.8318373 ],\n",
       "       [-0.16747676, -0.40972458, -0.07679601],\n",
       "       [-0.82237699, -0.49624143,  0.16090431],\n",
       "       [-0.82822847, -0.5358052 ,  0.49757594],\n",
       "       [-0.82465471, -0.50299615,  0.31263854],\n",
       "       [ 0.01541963, -0.4904297 , -0.52497891],\n",
       "       [-0.30342597, -0.46964384, -0.73078018],\n",
       "       [-1.04075666, -0.39116986,  1.11911342],\n",
       "       [ 0.52405969,  0.60841006, -0.80268062],\n",
       "       [ 0.08856294, -0.20214998,  0.48338279],\n",
       "       [ 0.02136594, -0.46666055, -0.96524411],\n",
       "       [ 0.02649724,  2.23668417, -0.60426069],\n",
       "       [ 0.06477381,  1.41795418,  0.42975501],\n",
       "       [ 0.02399987,  1.59685624, -0.60025476],\n",
       "       [-0.16319412, -0.61871434, -0.3886241 ],\n",
       "       [-0.28700287,  0.47339294,  0.20192378],\n",
       "       [-0.67011603,  0.63062057,  0.3490357 ],\n",
       "       [-0.68138889, -0.66555011,  0.62750984],\n",
       "       [-0.30428019,  1.22888879, -0.23635066],\n",
       "       [ 0.01588703, -0.5589727 , -0.60988615],\n",
       "       [-0.16368357, -0.42934267, -0.24537441],\n",
       "       [-0.67851839, -0.58987247,  0.51385673],\n",
       "       [ 0.07619847, -0.550731  , -1.10663952],\n",
       "       [-0.82188585, -0.46119283,  0.21388503],\n",
       "       [-0.06340729,  0.80928635, -0.83642957],\n",
       "       [-0.29307082, -0.61357693,  0.28930677],\n",
       "       [ 0.53993325,  0.59721503, -1.75728171],\n",
       "       [-0.06719243,  0.08501192, -0.68905525],\n",
       "       [-0.03012917, -0.31058388, -0.8702215 ],\n",
       "       [ 0.17433302, -0.01380683, -0.55435775],\n",
       "       [ 0.02128035, -0.58693327, -1.0114817 ],\n",
       "       [-0.67399253,  1.54534653,  0.84165499],\n",
       "       [-1.03618136, -0.56840198,  0.78520604],\n",
       "       [ 0.03429022, -0.29967108, -1.10439983],\n",
       "       [-0.18411641, -0.71546418,  0.70910084],\n",
       "       [ 3.38856719,  1.32810301,  1.44520223],\n",
       "       [-0.06996997,  3.43807232,  0.25130973],\n",
       "       [-1.03860064,  0.62024814,  1.29273667],\n",
       "       [-0.29481015, -0.5490517 ,  0.45597426],\n",
       "       [ 0.17061997, -0.15414885, -0.42750934],\n",
       "       [-0.16936649, -0.61405203, -0.06412465],\n",
       "       [-0.03927415, -0.58827053, -0.40097964],\n",
       "       [-0.16896095, -0.44390804, -0.00939983],\n",
       "       [ 0.01067361, -0.11780271, -0.2394474 ],\n",
       "       [-0.66846957, -0.54602056, -0.08882692],\n",
       "       [-0.02264142,  2.38918792, -0.48169904],\n",
       "       [-0.29955981,  0.0226722 ,  0.83264038],\n",
       "       [-0.07725383, -0.56167455, -0.27879161],\n",
       "       [-0.08287428, -0.56412038,  0.07994825],\n",
       "       [-0.29004801, -0.05496628,  0.19487135],\n",
       "       [ 0.01650749, -0.39070052, -0.6831774 ],\n",
       "       [-1.03854194,  0.21871631,  1.06320917],\n",
       "       [ 0.51068757, -0.69332179, -0.34571501],\n",
       "       [-0.16726664, -0.58382961, -0.17597848],\n",
       "       [ 0.01538302,  0.75074506, -0.23687354],\n",
       "       [ 0.51906654, -0.56131427, -0.74006913],\n",
       "       [-0.82482788, -0.17590797,  0.31214498],\n",
       "       [-0.17205235,  0.21044556,  0.32754033],\n",
       "       [-0.82286555, -0.48797182,  0.21712879],\n",
       "       [ 0.41522076, -0.4832881 , -0.8305228 ],\n",
       "       [-0.28319412, -0.56669567, -0.27319236],\n",
       "       [-0.82633639, -0.60845204,  0.31975061],\n",
       "       [ 0.11419601, -0.55455116, -1.23684731],\n",
       "       [-0.28038027, -0.52621395, -0.41196312],\n",
       "       [ 0.00785081, -0.63042517, -0.21674218],\n",
       "       [-0.01294746,  0.20729479, -1.55361078],\n",
       "       [-0.15978369,  2.97211889,  0.25395105],\n",
       "       [ 0.3698585 , -0.27361676, -1.08271572],\n",
       "       [-0.07303463, -0.55681928, -0.53206899],\n",
       "       [-0.28242447,  0.5284352 , -0.05669103],\n",
       "       [-0.07691113, -0.55363149, -0.24593191],\n",
       "       [ 3.37707571, -0.54858731,  1.69794495],\n",
       "       [ 0.09376643, -0.36722468, -2.00215639],\n",
       "       [-0.82848545, -0.58440808,  0.44853419],\n",
       "       [-0.17139677, -0.59156702,  0.14751935],\n",
       "       [-1.04881509, -0.2956015 ,  1.58161581],\n",
       "       [ 0.536267  ,  1.29900366, -1.25314091],\n",
       "       [-0.28402458,  1.86927176,  0.37428269],\n",
       "       [ 0.52822765, -0.39431711, -1.12429082],\n",
       "       [ 0.25160111, -0.44863409, -1.37167287],\n",
       "       [ 0.52382889,  0.58024441, -2.04831568],\n",
       "       [-0.08081656, -0.64422678, -0.10603529],\n",
       "       [ 0.22160611, -0.40955289, -1.3812573 ],\n",
       "       [-0.83463006, -0.45508854,  0.74133643],\n",
       "       [-0.31347113, -0.58854487, -0.02791935],\n",
       "       [ 0.53645324, -0.04319741, -1.62493889],\n",
       "       [-0.169847  ,  0.04033977,  0.11608942],\n",
       "       [ 0.24985315,  0.89048455, -1.07762187],\n",
       "       [ 0.01544062, -0.20518811, -0.52793712],\n",
       "       [-0.68115467, -0.14679832,  0.68486818],\n",
       "       [ 3.38098689, -0.14257394,  1.47045299],\n",
       "       [-0.28629308, -0.37728243, -0.01660997],\n",
       "       [ 0.06414931, -0.59023855, -0.41188716],\n",
       "       [-0.18288376, -0.63375118,  0.73245535],\n",
       "       [ 0.25655117, -0.45844858, -1.68651683],\n",
       "       [-0.04507358, -0.59999562, -0.07340559],\n",
       "       [ 0.50929264, -0.68259729, -0.24456707],\n",
       "       [-0.6665666 ,  2.24384136,  0.51859704],\n",
       "       [-1.03120117,  1.02099067,  0.92126394],\n",
       "       [-0.2774018 , -0.48571667, -0.57360944],\n",
       "       [-0.71910549, -0.70105017,  1.42264936],\n",
       "       [-0.17591747, -0.54750843,  0.37470456],\n",
       "       [-0.6789204 , -0.48981041,  0.64538097],\n",
       "       [ 3.38075091,  0.68239761,  1.70380758],\n",
       "       [-0.82082415, -0.46100965,  0.13887728],\n",
       "       [-0.162465  , -0.65782106, -0.4462472 ],\n",
       "       [-0.29450084,  0.08853336,  0.42524084],\n",
       "       [ 0.11165789, -0.73619818, -1.27673873],\n",
       "       [ 3.37037243, -0.16979013,  2.00443755],\n",
       "       [-0.17739247, -0.55352305,  0.40066581],\n",
       "       [ 0.52515026, -0.14899271, -0.97294919],\n",
       "       [ 3.37216113, -0.70056462,  1.85459678],\n",
       "       [ 3.39435028,  3.10824107,  1.58703905],\n",
       "       [-0.8354916 , -0.52839499,  0.86689908],\n",
       "       [-0.0744783 , -0.51357116, -0.35626015],\n",
       "       [-0.68042134, -0.57978687,  0.62204363],\n",
       "       [ 0.52417602, -0.55523928, -1.06528062],\n",
       "       [ 0.23026188, -0.58802097, -0.25427285],\n",
       "       [-0.83994813, -0.70333533,  1.02540678],\n",
       "       [-1.05347799, -0.66884138,  1.78402951],\n",
       "       [ 0.24068643, -0.7059987 , -0.94550355],\n",
       "       [-1.04838287, -0.19162049,  1.67157078],\n",
       "       [-0.16861021,  0.59886839,  0.23928856],\n",
       "       [-0.82117695, -0.43717662,  0.1431337 ],\n",
       "       [-0.17149758, -0.52037461,  0.14449152],\n",
       "       [-0.06671995,  2.22054758, -0.13692327],\n",
       "       [ 0.53503262,  0.76078259, -1.38471655],\n",
       "       [ 0.08342254,  0.90017666, -1.20009092],\n",
       "       [-0.08373224, -0.59696145,  0.07591177],\n",
       "       [ 0.35628377,  0.09437627, -0.247678  ],\n",
       "       [-0.43606381, -0.63766905, -0.04573794],\n",
       "       [ 3.37459192, -0.72817484,  1.68028082],\n",
       "       [-0.17136258, -0.68620866, -0.01243631],\n",
       "       [ 0.35652673, -0.49987042, -0.32494863],\n",
       "       [-0.67605144, -0.55327495,  0.38992375],\n",
       "       [ 0.01328509, -0.7177079 , -0.61003872],\n",
       "       [-0.82876065, -0.49883653,  0.57459907],\n",
       "       [ 3.37301127, -0.60809409,  1.90243043],\n",
       "       [ 0.02210632,  0.56086276, -0.78827894],\n",
       "       [ 0.52848758, -0.10494154, -1.20075643],\n",
       "       [ 0.53886117, -0.39293645, -1.7988936 ],\n",
       "       [-0.85449601, -0.7596048 ,  1.87846301],\n",
       "       [ 0.03562109, -0.59653305, -1.32161047],\n",
       "       [ 0.37042271,  3.01935426, -0.31030641],\n",
       "       [ 0.01260275, -0.36569455, -0.4289386 ],\n",
       "       [-0.71379995, -0.64992858,  1.12983941],\n",
       "       [-0.82274827,  0.44382281,  0.30526718],\n",
       "       [ 0.09771656, -0.503351  ,  0.07651466],\n",
       "       [ 0.12652425,  2.65621206, -1.89227228],\n",
       "       [-1.0466176 ,  1.36247111,  1.93677144],\n",
       "       [ 0.04356898,  0.17907494, -1.54180513],\n",
       "       [ 0.52871071,  1.79832261, -0.72474389]])"
      ]
     },
     "execution_count": 65,
     "metadata": {},
     "output_type": "execute_result"
    }
   ],
   "source": [
    "x_test"
   ]
  },
  {
   "cell_type": "code",
   "execution_count": 66,
   "metadata": {},
   "outputs": [],
   "source": [
    "y_pred=classifier.predict(x_test)"
   ]
  },
  {
   "cell_type": "code",
   "execution_count": 67,
   "metadata": {},
   "outputs": [
    {
     "data": {
      "text/plain": [
       "array([6, 5, 1, 1, 1, 2, 9, 1, 2, 1, 2, 5, 1, 5, 9, 1, 1, 1, 1, 2, 5, 1,\n",
       "       2, 1, 2, 1, 2, 2, 2, 2, 2, 1, 1, 2, 1, 6, 1, 1, 1, 2, 9, 2, 1, 5,\n",
       "       9, 5, 1, 5, 5, 1, 2, 1, 2, 9, 5, 2, 1, 1, 1, 2, 9, 1, 2, 9, 5, 2,\n",
       "       1, 2, 2, 1, 5, 6, 2, 1, 1, 1, 2, 1, 2, 2, 2, 5, 2, 1, 9, 2, 1, 2,\n",
       "       2, 1, 6, 1, 2, 1, 2, 5, 2, 1, 1, 9, 1, 1, 1, 6, 1, 9, 1, 2, 6, 1,\n",
       "       2, 6, 6, 1, 5, 1, 2, 2, 1, 1, 2, 1, 1, 1, 1, 5, 2, 2, 5, 5, 9, 6,\n",
       "       9, 2, 1, 2, 1, 6, 2, 2, 2, 1, 2, 5, 2, 1, 1, 5, 2, 1, 2, 2],\n",
       "      dtype=int64)"
      ]
     },
     "execution_count": 67,
     "metadata": {},
     "output_type": "execute_result"
    }
   ],
   "source": [
    "y_pred"
   ]
  },
  {
   "cell_type": "code",
   "execution_count": 68,
   "metadata": {},
   "outputs": [],
   "source": [
    "predicted_class=classifier.predict(x_test)"
   ]
  },
  {
   "cell_type": "code",
   "execution_count": 69,
   "metadata": {},
   "outputs": [],
   "source": [
    "from sklearn.metrics import accuracy_score"
   ]
  },
  {
   "cell_type": "code",
   "execution_count": 70,
   "metadata": {},
   "outputs": [
    {
     "name": "stdout",
     "output_type": "stream",
     "text": [
      "0.1513157894736842\n"
     ]
    }
   ],
   "source": [
    "accuracy = accuracy_score(y_test,predicted_class)\n",
    "parameters = classifier.coef_\n",
    "print(accuracy)"
   ]
  },
  {
   "cell_type": "code",
   "execution_count": 71,
   "metadata": {},
   "outputs": [
    {
     "data": {
      "text/plain": [
       "756"
      ]
     },
     "execution_count": 71,
     "metadata": {},
     "output_type": "execute_result"
    }
   ],
   "source": [
    "len(reduced_data)"
   ]
  },
  {
   "cell_type": "markdown",
   "metadata": {},
   "source": [
    "#### Support Vector Machine with PCA"
   ]
  },
  {
   "cell_type": "code",
   "execution_count": 72,
   "metadata": {},
   "outputs": [],
   "source": [
    "x = reduced_data\n",
    "y = matches.iloc[:,5].values"
   ]
  },
  {
   "cell_type": "code",
   "execution_count": 73,
   "metadata": {},
   "outputs": [
    {
     "name": "stderr",
     "output_type": "stream",
     "text": [
      "C:\\Users\\nsidd\\Anaconda3\\lib\\site-packages\\sklearn\\svm\\base.py:193: FutureWarning: The default value of gamma will change from 'auto' to 'scale' in version 0.22 to account better for unscaled features. Set gamma explicitly to 'auto' or 'scale' to avoid this warning.\n",
      "  \"avoid this warning.\", FutureWarning)\n"
     ]
    },
    {
     "data": {
      "text/plain": [
       "SVC(C=1.0, cache_size=200, class_weight=None, coef0=0.0,\n",
       "    decision_function_shape='ovr', degree=3, gamma='auto_deprecated',\n",
       "    kernel='rbf', max_iter=-1, probability=False, random_state=None,\n",
       "    shrinking=True, tol=0.001, verbose=False)"
      ]
     },
     "execution_count": 73,
     "metadata": {},
     "output_type": "execute_result"
    }
   ],
   "source": [
    "from sklearn.svm import SVC\n",
    "from sklearn.metrics import accuracy_score \n",
    "\n",
    "#model = LogisticRegression()\n",
    "model = SVC()\n",
    "\n",
    "model.fit(x, y)"
   ]
  },
  {
   "cell_type": "code",
   "execution_count": 74,
   "metadata": {},
   "outputs": [],
   "source": [
    "predicted_classes = model.predict(x)"
   ]
  },
  {
   "cell_type": "code",
   "execution_count": 75,
   "metadata": {},
   "outputs": [],
   "source": [
    "import numpy as np"
   ]
  },
  {
   "cell_type": "code",
   "execution_count": 76,
   "metadata": {},
   "outputs": [
    {
     "name": "stdout",
     "output_type": "stream",
     "text": [
      "0.8664021164021164\n"
     ]
    }
   ],
   "source": [
    "accuracy = accuracy_score(y.flatten(),predicted_classes)\n",
    "print(accuracy)"
   ]
  },
  {
   "cell_type": "code",
   "execution_count": 77,
   "metadata": {},
   "outputs": [
    {
     "data": {
      "text/plain": [
       "array([10, 11,  2,  9,  3, 10,  1,  9,  7,  1,  2,  1,  8,  2,  7,  1, 11,\n",
       "        7, 10,  3, 10,  1,  2,  1,  1,  9,  2, 11,  2,  3,  2, 10, 11,  1,\n",
       "        9, 10,  1, 11,  7,  2,  7,  9, 11,  1,  2,  9, 10,  9,  7,  9,  7,\n",
       "       10,  1,  5,  3, 11,  1,  1, 10,  2,  5,  7,  5,  2,  6,  7,  5,  6,\n",
       "        9,  3,  5,  4,  9,  5,  2,  7,  9,  6,  7,  3,  9,  1,  6,  3,  5,\n",
       "        1,  5,  2,  6,  1,  5,  2,  6,  9,  2,  1,  9,  7,  1,  9,  6,  1,\n",
       "        5,  7,  6,  9,  3,  9,  5,  6,  3,  2,  6,  5,  6,  5,  6,  1,  3,\n",
       "        7,  4,  5,  2,  4,  7,  6,  9,  7,  7,  9,  4,  1,  6,  3,  9,  7,\n",
       "        5,  1,  3,  6,  5,  9,  3,  5,  6,  7,  4,  6,  5,  7,  9,  5,  1,\n",
       "        1,  4,  3,  1,  7,  3,  6,  9,  5,  1,  1,  7,  2,  3,  2,  5,  7,\n",
       "        3,  4,  3,  4,  2,  1,  7,  2,  4,  1,  3,  5,  1,  3,  5,  4,  6,\n",
       "        3,  4,  9,  1,  3,  6,  1,  6,  2,  7,  6,  1,  7,  1,  5,  7,  2,\n",
       "        3,  5,  1,  9,  7,  6,  5,  6,  2,  3,  9,  1,  3,  9,  1,  4,  1,\n",
       "        5,  3,  7,  9,  1,  2,  5,  4,  2,  1,  5,  3,  5,  5, 10,  3,  1,\n",
       "       13,  2,  6,  1,  9, 13,  4,  2,  1,  5, 10,  7,  2, 12,  2,  1,  2,\n",
       "        9,  1,  3,  7,  1,  6,  5,  3,  5,  4,  2,  6,  3,  7,  2,  6,  5,\n",
       "        1,  3,  2,  5,  1, 12,  2,  3,  2,  1,  3,  9,  5,  1,  9,  3,  5,\n",
       "        9,  3,  4,  9, 12,  4,  9,  5,  2,  1,  4,  6,  3,  1,  5,  1,  3,\n",
       "        5,  1,  2, 13,  6,  3,  5,  6, 13,  1,  2,  7,  1,  5,  9,  2,  7,\n",
       "        9,  2,  6,  1,  6,  3,  2, 10,  5,  9,  5,  3,  1,  2,  3,  7,  9,\n",
       "        4,  7,  9,  2,  7,  1,  2,  4,  2,  2,  1,  5,  2,  6,  1,  3,  2,\n",
       "        1,  9,  3,  5,  3,  1,  5,  6,  9,  1,  2,  7,  2,  9,  3,  1,  7,\n",
       "        2, 10,  6,  2,  5,  5,  5,  2,  3, 10,  6,  1,  9, 10,  6,  1,  9,\n",
       "        3,  7,  7,  1,  5,  2,  6,  5,  9,  3, 10,  6,  5, 10,  5,  3,  7,\n",
       "        9,  5,  3,  9,  2,  1,  2,  6,  1,  5,  7,  6,  1,  5, 10,  7,  5,\n",
       "        3,  2, 10,  3,  1,  6,  3,  6,  1,  5,  9,  2,  3,  1, 10,  2,  6,\n",
       "        7,  1, 13,  5,  1,  9, 10,  9, 13,  3, 10,  5,  6,  2,  1,  2,  3,\n",
       "        2,  6,  3,  7,  9,  5,  9,  5,  2, 10,  5,  6,  9,  7,  5,  9,  6,\n",
       "       10,  5,  1,  6,  3,  6,  5,  1,  2,  9, 10,  9, 10,  5,  5,  3, 10,\n",
       "        5,  3,  9,  2,  6,  3,  2,  1,  9, 10,  2,  1,  2, 10,  1,  9,  3,\n",
       "        2,  9,  1,  2,  5,  9,  2,  2,  5,  6,  5,  2,  6,  9, 10,  6,  2,\n",
       "        5,  6,  5,  7,  2,  6,  1,  2,  9, 10,  5,  7,  3,  1,  5,  3, 10,\n",
       "        2,  3,  5,  7,  1,  3, 10,  1,  6,  5,  2,  1,  3, 10,  1,  2, 10,\n",
       "        3,  5, 10,  7,  9,  1,  3,  9,  6,  3,  1,  1,  3,  5,  1,  1,  2,\n",
       "        9,  3,  2,  8,  7, 10,  5,  9,  3, 10,  2,  1, 10,  3,  7, 10,  2,\n",
       "        2,  1, 11,  8,  1,  8,  7, 10,  9,  1,  1,  7,  2,  7, 10,  3,  9,\n",
       "       10,  6,  3, 10,  1,  1,  9,  3,  2,  9,  1,  2, 11,  3,  8,  7, 11,\n",
       "        7,  2,  3,  3, 10,  2, 10,  5,  9,  2, 10,  5,  6, 10,  3,  7,  2,\n",
       "        6,  9,  2,  1,  6,  9,  5,  9,  3,  5,  6,  9, 10,  3, 10,  7,  2,\n",
       "       10,  2,  5,  3,  7,  2,  1,  5, 10,  1,  9, 10,  6,  1, 10,  6,  2,\n",
       "        5,  5,  6,  3,  2,  1,  3,  7,  6,  2,  7,  5,  5,  2, 10,  5,  5,\n",
       "        2, 14,  9,  5,  2,  1, 10,  9,  2, 10,  5,  9,  6,  1, 10,  2,  5,\n",
       "        1,  3,  2,  9,  5,  1,  5,  3,  6,  3,  2,  1,  1,  9, 10,  1,  3,\n",
       "        6,  5, 10,  3,  6,  5,  3,  1,  1,  6, 14,  2, 10,  3,  5,  1,  2,\n",
       "        2,  3,  9,  1,  1, 14,  5,  1], dtype=int64)"
      ]
     },
     "execution_count": 77,
     "metadata": {},
     "output_type": "execute_result"
    }
   ],
   "source": [
    "predicted_classes"
   ]
  },
  {
   "cell_type": "markdown",
   "metadata": {},
   "source": [
    "### SVM Without PCA"
   ]
  },
  {
   "cell_type": "code",
   "execution_count": 78,
   "metadata": {},
   "outputs": [],
   "source": [
    "x = matches.iloc[:,:-5].values \n",
    "y = matches.iloc[:,5].values"
   ]
  },
  {
   "cell_type": "code",
   "execution_count": 79,
   "metadata": {},
   "outputs": [
    {
     "name": "stderr",
     "output_type": "stream",
     "text": [
      "C:\\Users\\nsidd\\Anaconda3\\lib\\site-packages\\sklearn\\svm\\base.py:193: FutureWarning: The default value of gamma will change from 'auto' to 'scale' in version 0.22 to account better for unscaled features. Set gamma explicitly to 'auto' or 'scale' to avoid this warning.\n",
      "  \"avoid this warning.\", FutureWarning)\n"
     ]
    },
    {
     "data": {
      "text/plain": [
       "SVC(C=1.0, cache_size=200, class_weight=None, coef0=0.0,\n",
       "    decision_function_shape='ovr', degree=3, gamma='auto_deprecated',\n",
       "    kernel='rbf', max_iter=-1, probability=False, random_state=None,\n",
       "    shrinking=True, tol=0.001, verbose=False)"
      ]
     },
     "execution_count": 79,
     "metadata": {},
     "output_type": "execute_result"
    }
   ],
   "source": [
    " \n",
    "from sklearn.svm import SVC\n",
    "from sklearn.metrics import accuracy_score \n",
    "\n",
    "\n",
    "model = SVC()\n",
    "\n",
    "model.fit(x, y)"
   ]
  },
  {
   "cell_type": "code",
   "execution_count": 80,
   "metadata": {},
   "outputs": [],
   "source": [
    "predicted_classes = model.predict(x)"
   ]
  },
  {
   "cell_type": "code",
   "execution_count": 81,
   "metadata": {},
   "outputs": [],
   "source": [
    "import numpy as np"
   ]
  },
  {
   "cell_type": "code",
   "execution_count": 82,
   "metadata": {},
   "outputs": [
    {
     "name": "stdout",
     "output_type": "stream",
     "text": [
      "0.8690476190476191\n"
     ]
    }
   ],
   "source": [
    "accuracy = accuracy_score(y.flatten(),predicted_classes)\n",
    "print(accuracy)"
   ]
  },
  {
   "cell_type": "code",
   "execution_count": 83,
   "metadata": {},
   "outputs": [],
   "source": [
    "from sklearn.metrics import confusion_matrix\n",
    "cmm=confusion_matrix(y.flatten(),predicted_classes)"
   ]
  },
  {
   "cell_type": "code",
   "execution_count": 84,
   "metadata": {},
   "outputs": [
    {
     "data": {
      "text/plain": [
       "array([[103,   6,   0,   0,   0,   0,   0,   0,   0,   0,   0,   0,   0,\n",
       "          0,   0],\n",
       "       [  2,  86,   1,   1,   1,   1,   0,   0,   0,   0,   0,   0,   0,\n",
       "          0,   0],\n",
       "       [  4,   5,  75,   0,   0,   0,   0,   0,   0,   0,   0,   0,   0,\n",
       "          0,   0],\n",
       "       [  0,   1,   4,  17,   5,   0,   2,   0,   0,   0,   0,   0,   0,\n",
       "          0,   0],\n",
       "       [  2,   2,   2,   0,  89,   1,   1,   0,   2,   1,   0,   0,   0,\n",
       "          0,   0],\n",
       "       [  1,   0,   2,   0,   2,  69,   0,   0,   1,   0,   0,   0,   0,\n",
       "          0,   0],\n",
       "       [  0,   0,   1,   0,   2,   1,  61,   0,   0,   2,   0,   0,   0,\n",
       "          0,   0],\n",
       "       [  0,   0,   0,   0,   0,   2,   1,   6,   4,   0,   0,   0,   0,\n",
       "          0,   0],\n",
       "       [  0,   0,   0,   0,   0,   0,   2,   0,  79,   1,   0,   0,   0,\n",
       "          0,   0],\n",
       "       [  0,   0,   0,   0,   1,   0,   5,   0,   3,  49,   0,   0,   0,\n",
       "          0,   0],\n",
       "       [  1,   0,   0,   0,   1,   0,   2,   0,   2,   1,   8,   0,   0,\n",
       "          0,   0],\n",
       "       [  0,   0,   0,   0,   1,   0,   0,   0,   1,   1,   0,   3,   0,\n",
       "          0,   0],\n",
       "       [  0,   0,   0,   0,   1,   0,   2,   0,   3,   3,   0,   0,   3,\n",
       "          0,   0],\n",
       "       [  0,   0,   0,   0,   1,   1,   0,   0,   1,   1,   0,   0,   0,\n",
       "          6,   0],\n",
       "       [  0,   0,   0,   0,   0,   0,   0,   0,   0,   1,   0,   0,   0,\n",
       "          0,   3]], dtype=int64)"
      ]
     },
     "execution_count": 84,
     "metadata": {},
     "output_type": "execute_result"
    }
   ],
   "source": [
    "cmm"
   ]
  },
  {
   "cell_type": "code",
   "execution_count": 88,
   "metadata": {},
   "outputs": [
    {
     "data": {
      "text/plain": [
       "<matplotlib.axes._subplots.AxesSubplot at 0x2a0ffeb9c88>"
      ]
     },
     "execution_count": 88,
     "metadata": {},
     "output_type": "execute_result"
    },
    {
     "data": {
      "image/png": "[encoded data removed]",
      "text/plain": [
       "<Figure size 360x576 with 2 Axes>"
      ]
     },
     "metadata": {
      "needs_background": "light"
     },
     "output_type": "display_data"
    }
   ],
   "source": [
    "import seaborn as sn\n",
    "import pandas as pd\n",
    "import matplotlib.pyplot as plt\n",
    "array = [[103,   6,   0,   0,   0,   0,   0,   0,   0,   0,   0,   0,   0,\n",
    "          0,   0],\n",
    "       [  2,  86,   1,   1,   1,   1,   0,   0,   0,   0,   0,   0,   0,\n",
    "          0,   0],\n",
    "       [  4,   5,  75,   0,   0,   0,   0,   0,   0,   0,   0,   0,   0,\n",
    "          0,   0],\n",
    "       [  0,   1,   4,  17,   5,   0,   2,   0,   0,   0,   0,   0,   0,\n",
    "          0,   0],\n",
    "       [  2,   2,   2,   0,  89,   1,   1,   0,   2,   1,   0,   0,   0,\n",
    "          0,   0],\n",
    "       [  1,   0,   2,   0,   2,  69,   0,   0,   1,   0,   0,   0,   0,\n",
    "          0,   0],\n",
    "       [  0,   0,   1,   0,   2,   1,  61,   0,   0,   2,   0,   0,   0,\n",
    "          0,   0],\n",
    "       [  0,   0,   0,   0,   0,   2,   1,   6,   4,   0,   0,   0,   0,\n",
    "          0,   0],\n",
    "       [  0,   0,   0,   0,   0,   0,   2,   0,  79,   1,   0,   0,   0,\n",
    "          0,   0],\n",
    "       [  0,   0,   0,   0,   1,   0,   5,   0,   3,  49,   0,   0,   0,\n",
    "          0,   0],\n",
    "       [  1,   0,   0,   0,   1,   0,   2,   0,   2,   1,   8,   0,   0,\n",
    "          0,   0],\n",
    "       [  0,   0,   0,   0,   1,   0,   0,   0,   1,   1,   0,   3,   0,\n",
    "          0,   0],\n",
    "       [  0,   0,   0,   0,   1,   0,   2,   0,   3,   3,   0,   0,   3,\n",
    "          0,   0],\n",
    "       [  0,   0,   0,   0,   1,   1,   0,   0,   1,   1,   0,   0,   0,\n",
    "          6,   0],\n",
    "       [  0,   0,   0,   0,   0,   0,   0,   0,   0,   1,   0,   0,   0,\n",
    "          0,   3]]\n",
    "df_cm2 = pd.DataFrame(array, index = [i for i in \"abcdefghijklmno\"],\n",
    "                  columns = [i for i in \"abcdefghijklmno\"])\n",
    "plt.figure(figsize = (5,8))\n",
    "sn.heatmap(df_cm2, annot=True)"
   ]
  },
  {
   "cell_type": "code",
   "execution_count": 85,
   "metadata": {},
   "outputs": [
    {
     "data": {
      "text/plain": [
       "array([10, 11,  2,  9,  3, 10,  1,  9,  7,  1,  2,  1,  8,  2,  7,  1,  5,\n",
       "        2, 10,  3, 10,  1,  8,  1,  7,  9,  2,  9,  1,  9,  2, 10, 11,  1,\n",
       "        9, 10,  1, 11,  7, 11,  7,  9, 10,  1,  2,  9, 10,  9,  7,  9,  7,\n",
       "       10,  2,  7,  3, 11,  1,  1,  1,  2,  5,  7,  1,  2,  6, 10,  5,  6,\n",
       "        9,  3,  5,  4,  9,  3,  2,  7,  9,  6,  7,  1,  9,  1,  6,  9,  5,\n",
       "        1,  5,  2,  6,  1,  5,  2,  6,  9,  2,  1,  9,  7,  1,  9,  6,  1,\n",
       "        5,  7,  6,  9,  3,  9,  7,  5,  3,  2,  6, 10,  6,  5,  6,  1,  3,\n",
       "        7,  2,  5,  2,  4,  7,  6,  9,  7,  7,  9,  7,  1,  6,  3,  9,  7,\n",
       "        5,  1,  3,  6,  5,  9,  3,  5,  6,  7,  4,  6,  5,  7,  9,  5,  1,\n",
       "        7,  4,  3,  1,  7,  3,  6,  9,  5,  3,  9,  7,  2,  3,  3,  5,  7,\n",
       "        3,  4,  3,  3,  2,  1,  7,  2,  5,  6,  3,  5,  1,  3,  7,  4,  1,\n",
       "        3,  5,  9,  2,  3,  6,  1,  6,  2,  5,  6,  1,  7,  1,  5,  7,  2,\n",
       "        3,  5,  1,  9,  7,  6,  5,  6,  2,  3,  9,  4,  3,  9,  1,  4,  1,\n",
       "        5,  3,  7,  3,  1,  2,  3,  4,  2,  1,  5,  3,  5,  5,  6,  2,  1,\n",
       "       13,  2,  6,  1,  9, 13,  4,  2,  9,  5, 10,  7,  2,  5,  4,  1, 12,\n",
       "        9,  1,  2,  7,  1,  6,  5,  3,  5,  4,  4,  6,  3,  7,  2,  6,  5,\n",
       "        1, 10,  2,  5,  1, 12,  7,  3,  2,  1,  3,  9,  5,  9,  9,  3,  5,\n",
       "        9,  3,  4,  9, 12,  4,  9,  5,  2,  6,  4, 10,  3,  1,  1,  1,  3,\n",
       "        5,  1,  7, 10,  6,  3,  5,  6, 13,  1,  2,  7,  1,  5,  9,  2,  7,\n",
       "        9,  9,  6,  7,  6,  3,  2, 10,  5,  3,  5, 10,  9,  2,  3,  7,  1,\n",
       "        4,  7,  9,  2,  7,  1,  2,  5,  7,  9,  1,  5,  2,  6,  1,  3,  2,\n",
       "        5,  9,  3,  5,  3,  1,  5,  6,  9,  1,  2,  7,  2,  9,  3,  4,  7,\n",
       "        2,  5,  1,  2,  5,  5,  5,  2,  3, 10,  6,  1,  9, 10,  6,  1,  9,\n",
       "        3,  7,  7,  1,  5,  2,  6,  5,  9,  3, 10,  6,  5, 10,  1,  3,  7,\n",
       "        9,  5,  3,  9,  2,  5,  2,  6,  1,  5,  7,  6,  1,  5, 10,  7,  5,\n",
       "        3,  2, 10,  9,  1,  6,  3,  6,  1,  5,  9,  2,  3,  1, 10,  2,  6,\n",
       "        7,  1, 10,  5,  1,  9, 10,  9,  7,  3, 10,  5,  6,  2,  1,  2,  2,\n",
       "        9,  6,  3,  5,  9,  5,  9,  5,  2, 10,  5,  6,  9,  7,  5,  9,  6,\n",
       "       10,  5,  1,  6,  3,  6,  5,  1,  2,  9, 10,  9,  9,  5,  2,  3,  1,\n",
       "        5,  3,  9,  2,  6,  3,  2,  1,  9, 10,  2,  1,  2,  7,  1,  9,  5,\n",
       "        2,  9,  1,  2,  5,  9,  2,  2,  5,  6,  5,  2,  6,  9,  7,  6,  2,\n",
       "        7,  6,  5,  7,  2,  6,  1,  2,  9, 10,  5,  7,  1,  1,  5,  3,  9,\n",
       "        2, 15,  5,  7,  1,  3, 10,  1,  6,  5,  2,  1,  3, 10,  1,  2, 10,\n",
       "        1,  5, 10,  7,  9,  1,  3,  9,  6, 15,  1,  1,  3,  5,  1,  1,  2,\n",
       "        9,  3,  2,  8,  7,  2,  6,  9,  3, 10,  2,  1, 10,  3,  7, 10,  9,\n",
       "        2,  1, 11,  8,  1,  8,  7, 10,  9,  1,  2,  7,  2, 11, 10,  3,  9,\n",
       "       10,  6,  3, 10,  1,  7,  9,  3,  2,  9,  1,  3, 11,  3,  8,  7,  9,\n",
       "        7,  2,  3,  3, 10,  7, 10,  5,  9,  2, 10,  5,  6, 10,  3,  7,  5,\n",
       "        6,  9,  2,  1,  6,  9,  5,  9,  3,  5,  6,  7, 10,  5, 10,  7,  1,\n",
       "       10,  2,  5,  3,  7,  2,  1,  6, 10,  1,  9, 10,  6,  1,  7,  6,  2,\n",
       "        3,  5,  6,  3,  2,  1,  3,  7,  6,  2,  7,  5,  5,  2, 10,  5,  5,\n",
       "        2, 14,  9,  5,  2,  1, 10,  9, 10, 10,  5,  9,  6,  1, 10,  2,  5,\n",
       "        1,  9,  2,  9,  5,  1,  5, 14,  6,  3,  2, 14,  1,  9, 10,  1,  2,\n",
       "        6,  5, 10,  3,  6,  5,  3,  6,  1,  6, 14,  2, 10, 15,  5,  1,  2,\n",
       "       14,  3,  9,  1,  1, 14,  5,  1], dtype=int64)"
      ]
     },
     "execution_count": 85,
     "metadata": {},
     "output_type": "execute_result"
    }
   ],
   "source": [
    "predicted_classes"
   ]
  },
  {
   "cell_type": "code",
   "execution_count": null,
   "metadata": {},
   "outputs": [],
   "source": []
  },
  {
   "cell_type": "code",
   "execution_count": null,
   "metadata": {},
   "outputs": [],
   "source": []
  },
  {
   "cell_type": "code",
   "execution_count": null,
   "metadata": {},
   "outputs": [],
   "source": []
  }
 ],
 "metadata": {
  "kernelspec": {
   "display_name": "Python 3",
   "language": "python",
   "name": "python3"
  },
  "language_info": {
   "codemirror_mode": {
    "name": "ipython",
    "version": 3
   },
   "file_extension": ".py",
   "mimetype": "text/x-python",
   "name": "python",
   "nbconvert_exporter": "python",
   "pygments_lexer": "ipython3",
   "version": "3.7.3"
  }
 },
 "nbformat": 4,
 "nbformat_minor": 2
}
